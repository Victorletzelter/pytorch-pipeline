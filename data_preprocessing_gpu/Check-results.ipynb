{
 "cells": [
  {
   "cell_type": "code",
   "execution_count": 3,
   "metadata": {},
   "outputs": [
    {
     "name": "stdout",
     "output_type": "stream",
     "text": [
      "Requirement already satisfied: torch>=1.8.1 in /opt/conda/lib/python3.7/site-packages (from -r /root/workspace/pytorch-pipeline-1/requirements.txt (line 1)) (1.13.1)\n",
      "Requirement already satisfied: torchvision>=0.9.1 in /opt/conda/lib/python3.7/site-packages (from -r /root/workspace/pytorch-pipeline-1/requirements.txt (line 2)) (0.14.1)\n",
      "Requirement already satisfied: torchaudio>=0.8.1 in /opt/conda/lib/python3.7/site-packages (from -r /root/workspace/pytorch-pipeline-1/requirements.txt (line 3)) (0.13.1)\n",
      "Requirement already satisfied: pandas in /opt/conda/lib/python3.7/site-packages (from -r /root/workspace/pytorch-pipeline-1/requirements.txt (line 4)) (1.2.2)\n",
      "Requirement already satisfied: numpy in /opt/conda/lib/python3.7/site-packages (from -r /root/workspace/pytorch-pipeline-1/requirements.txt (line 5)) (1.21.6)\n",
      "Requirement already satisfied: tqdm in /opt/conda/lib/python3.7/site-packages (from -r /root/workspace/pytorch-pipeline-1/requirements.txt (line 6)) (4.56.0)\n",
      "Requirement already satisfied: tensorboard>=1.14 in /opt/conda/lib/python3.7/site-packages (from -r /root/workspace/pytorch-pipeline-1/requirements.txt (line 7)) (2.11.2)\n",
      "Collecting argparse\n",
      "  Using cached argparse-1.4.0-py2.py3-none-any.whl (23 kB)\n",
      "Requirement already satisfied: librosa in /opt/conda/lib/python3.7/site-packages (from -r /root/workspace/pytorch-pipeline-1/requirements.txt (line 9)) (0.9.2)\n",
      "Requirement already satisfied: requests in /opt/conda/lib/python3.7/site-packages (from -r /root/workspace/pytorch-pipeline-1/requirements.txt (line 10)) (2.25.1)\n",
      "Requirement already satisfied: setuptools>=41.0.0 in /opt/conda/lib/python3.7/site-packages (from tensorboard>=1.14->-r /root/workspace/pytorch-pipeline-1/requirements.txt (line 7)) (52.0.0.post20210125)\n",
      "Requirement already satisfied: grpcio>=1.24.3 in /opt/conda/lib/python3.7/site-packages (from tensorboard>=1.14->-r /root/workspace/pytorch-pipeline-1/requirements.txt (line 7)) (1.36.0)\n",
      "Requirement already satisfied: werkzeug>=1.0.1 in /opt/conda/lib/python3.7/site-packages (from tensorboard>=1.14->-r /root/workspace/pytorch-pipeline-1/requirements.txt (line 7)) (1.0.1)\n",
      "Requirement already satisfied: protobuf<4,>=3.9.2 in /opt/conda/lib/python3.7/site-packages (from tensorboard>=1.14->-r /root/workspace/pytorch-pipeline-1/requirements.txt (line 7)) (3.15.3)\n",
      "Requirement already satisfied: tensorboard-data-server<0.7.0,>=0.6.0 in /opt/conda/lib/python3.7/site-packages (from tensorboard>=1.14->-r /root/workspace/pytorch-pipeline-1/requirements.txt (line 7)) (0.6.1)\n",
      "Requirement already satisfied: google-auth<3,>=1.6.3 in /opt/conda/lib/python3.7/site-packages (from tensorboard>=1.14->-r /root/workspace/pytorch-pipeline-1/requirements.txt (line 7)) (1.27.0)\n",
      "Requirement already satisfied: absl-py>=0.4 in /opt/conda/lib/python3.7/site-packages (from tensorboard>=1.14->-r /root/workspace/pytorch-pipeline-1/requirements.txt (line 7)) (1.4.0)\n",
      "Requirement already satisfied: wheel>=0.26 in /opt/conda/lib/python3.7/site-packages (from tensorboard>=1.14->-r /root/workspace/pytorch-pipeline-1/requirements.txt (line 7)) (0.36.2)\n",
      "Requirement already satisfied: tensorboard-plugin-wit>=1.6.0 in /opt/conda/lib/python3.7/site-packages (from tensorboard>=1.14->-r /root/workspace/pytorch-pipeline-1/requirements.txt (line 7)) (1.8.1)\n",
      "Requirement already satisfied: google-auth-oauthlib<0.5,>=0.4.1 in /opt/conda/lib/python3.7/site-packages (from tensorboard>=1.14->-r /root/workspace/pytorch-pipeline-1/requirements.txt (line 7)) (0.4.2)\n",
      "Requirement already satisfied: markdown>=2.6.8 in /opt/conda/lib/python3.7/site-packages (from tensorboard>=1.14->-r /root/workspace/pytorch-pipeline-1/requirements.txt (line 7)) (3.3.4)\n",
      "Requirement already satisfied: idna<3,>=2.5 in /opt/conda/lib/python3.7/site-packages (from requests->-r /root/workspace/pytorch-pipeline-1/requirements.txt (line 10)) (2.10)\n",
      "Requirement already satisfied: certifi>=2017.4.17 in /opt/conda/lib/python3.7/site-packages (from requests->-r /root/workspace/pytorch-pipeline-1/requirements.txt (line 10)) (2020.12.5)\n",
      "Requirement already satisfied: urllib3<1.27,>=1.21.1 in /opt/conda/lib/python3.7/site-packages (from requests->-r /root/workspace/pytorch-pipeline-1/requirements.txt (line 10)) (1.26.3)\n",
      "Requirement already satisfied: chardet<5,>=3.0.2 in /opt/conda/lib/python3.7/site-packages (from requests->-r /root/workspace/pytorch-pipeline-1/requirements.txt (line 10)) (4.0.0)\n",
      "Requirement already satisfied: nvidia-cublas-cu11==11.10.3.66 in /opt/conda/lib/python3.7/site-packages (from torch>=1.8.1->-r /root/workspace/pytorch-pipeline-1/requirements.txt (line 1)) (11.10.3.66)\n",
      "Requirement already satisfied: nvidia-cuda-runtime-cu11==11.7.99 in /opt/conda/lib/python3.7/site-packages (from torch>=1.8.1->-r /root/workspace/pytorch-pipeline-1/requirements.txt (line 1)) (11.7.99)\n",
      "Requirement already satisfied: typing-extensions in /opt/conda/lib/python3.7/site-packages (from torch>=1.8.1->-r /root/workspace/pytorch-pipeline-1/requirements.txt (line 1)) (3.7.4.3)\n",
      "Requirement already satisfied: nvidia-cudnn-cu11==8.5.0.96 in /opt/conda/lib/python3.7/site-packages (from torch>=1.8.1->-r /root/workspace/pytorch-pipeline-1/requirements.txt (line 1)) (8.5.0.96)\n",
      "Requirement already satisfied: nvidia-cuda-nvrtc-cu11==11.7.99 in /opt/conda/lib/python3.7/site-packages (from torch>=1.8.1->-r /root/workspace/pytorch-pipeline-1/requirements.txt (line 1)) (11.7.99)\n",
      "Requirement already satisfied: pillow!=8.3.*,>=5.3.0 in /opt/conda/lib/python3.7/site-packages (from torchvision>=0.9.1->-r /root/workspace/pytorch-pipeline-1/requirements.txt (line 2)) (8.1.0)\n",
      "Requirement already satisfied: six>=1.9.0 in /opt/conda/lib/python3.7/site-packages (from google-auth<3,>=1.6.3->tensorboard>=1.14->-r /root/workspace/pytorch-pipeline-1/requirements.txt (line 7)) (1.15.0)\n",
      "Requirement already satisfied: pyasn1-modules>=0.2.1 in /opt/conda/lib/python3.7/site-packages (from google-auth<3,>=1.6.3->tensorboard>=1.14->-r /root/workspace/pytorch-pipeline-1/requirements.txt (line 7)) (0.2.8)\n",
      "Requirement already satisfied: rsa<5,>=3.1.4 in /opt/conda/lib/python3.7/site-packages (from google-auth<3,>=1.6.3->tensorboard>=1.14->-r /root/workspace/pytorch-pipeline-1/requirements.txt (line 7)) (4.7.2)\n",
      "Requirement already satisfied: cachetools<5.0,>=2.0.0 in /opt/conda/lib/python3.7/site-packages (from google-auth<3,>=1.6.3->tensorboard>=1.14->-r /root/workspace/pytorch-pipeline-1/requirements.txt (line 7)) (4.2.1)\n",
      "Requirement already satisfied: requests-oauthlib>=0.7.0 in /opt/conda/lib/python3.7/site-packages (from google-auth-oauthlib<0.5,>=0.4.1->tensorboard>=1.14->-r /root/workspace/pytorch-pipeline-1/requirements.txt (line 7)) (1.3.0)\n",
      "Requirement already satisfied: importlib-metadata in /opt/conda/lib/python3.7/site-packages (from markdown>=2.6.8->tensorboard>=1.14->-r /root/workspace/pytorch-pipeline-1/requirements.txt (line 7)) (3.7.0)\n",
      "Requirement already satisfied: pyasn1<0.5.0,>=0.4.6 in /opt/conda/lib/python3.7/site-packages (from pyasn1-modules>=0.2.1->google-auth<3,>=1.6.3->tensorboard>=1.14->-r /root/workspace/pytorch-pipeline-1/requirements.txt (line 7)) (0.4.8)\n",
      "Requirement already satisfied: oauthlib>=3.0.0 in /opt/conda/lib/python3.7/site-packages (from requests-oauthlib>=0.7.0->google-auth-oauthlib<0.5,>=0.4.1->tensorboard>=1.14->-r /root/workspace/pytorch-pipeline-1/requirements.txt (line 7)) (3.1.0)\n",
      "Requirement already satisfied: audioread>=2.1.9 in /opt/conda/lib/python3.7/site-packages (from librosa->-r /root/workspace/pytorch-pipeline-1/requirements.txt (line 9)) (3.0.0)\n",
      "Requirement already satisfied: scipy>=1.2.0 in /opt/conda/lib/python3.7/site-packages (from librosa->-r /root/workspace/pytorch-pipeline-1/requirements.txt (line 9)) (1.6.1)\n",
      "Requirement already satisfied: scikit-learn>=0.19.1 in /opt/conda/lib/python3.7/site-packages (from librosa->-r /root/workspace/pytorch-pipeline-1/requirements.txt (line 9)) (0.24.1)\n",
      "Requirement already satisfied: resampy>=0.2.2 in /opt/conda/lib/python3.7/site-packages (from librosa->-r /root/workspace/pytorch-pipeline-1/requirements.txt (line 9)) (0.3.1)\n",
      "Requirement already satisfied: packaging>=20.0 in /opt/conda/lib/python3.7/site-packages (from librosa->-r /root/workspace/pytorch-pipeline-1/requirements.txt (line 9)) (20.9)\n",
      "Requirement already satisfied: decorator>=4.0.10 in /opt/conda/lib/python3.7/site-packages (from librosa->-r /root/workspace/pytorch-pipeline-1/requirements.txt (line 9)) (4.4.2)\n",
      "Requirement already satisfied: numba>=0.45.1 in /opt/conda/lib/python3.7/site-packages (from librosa->-r /root/workspace/pytorch-pipeline-1/requirements.txt (line 9)) (0.52.0)\n",
      "Requirement already satisfied: pooch>=1.0 in /opt/conda/lib/python3.7/site-packages (from librosa->-r /root/workspace/pytorch-pipeline-1/requirements.txt (line 9)) (1.6.0)\n",
      "Requirement already satisfied: soundfile>=0.10.2 in /opt/conda/lib/python3.7/site-packages (from librosa->-r /root/workspace/pytorch-pipeline-1/requirements.txt (line 9)) (0.11.0)\n",
      "Requirement already satisfied: joblib>=0.14 in /opt/conda/lib/python3.7/site-packages (from librosa->-r /root/workspace/pytorch-pipeline-1/requirements.txt (line 9)) (1.0.1)\n",
      "Requirement already satisfied: llvmlite<0.36,>=0.35.0 in /opt/conda/lib/python3.7/site-packages (from numba>=0.45.1->librosa->-r /root/workspace/pytorch-pipeline-1/requirements.txt (line 9)) (0.35.0)\n",
      "Requirement already satisfied: pyparsing>=2.0.2 in /opt/conda/lib/python3.7/site-packages (from packaging>=20.0->librosa->-r /root/workspace/pytorch-pipeline-1/requirements.txt (line 9)) (2.4.7)\n",
      "Requirement already satisfied: appdirs>=1.3.0 in /opt/conda/lib/python3.7/site-packages (from pooch>=1.0->librosa->-r /root/workspace/pytorch-pipeline-1/requirements.txt (line 9)) (1.4.4)\n",
      "Requirement already satisfied: threadpoolctl>=2.0.0 in /opt/conda/lib/python3.7/site-packages (from scikit-learn>=0.19.1->librosa->-r /root/workspace/pytorch-pipeline-1/requirements.txt (line 9)) (2.1.0)\n",
      "Requirement already satisfied: cffi>=1.0 in /opt/conda/lib/python3.7/site-packages (from soundfile>=0.10.2->librosa->-r /root/workspace/pytorch-pipeline-1/requirements.txt (line 9)) (1.14.5)\n",
      "Requirement already satisfied: pycparser in /opt/conda/lib/python3.7/site-packages (from cffi>=1.0->soundfile>=0.10.2->librosa->-r /root/workspace/pytorch-pipeline-1/requirements.txt (line 9)) (2.20)\n",
      "Requirement already satisfied: python-dateutil>=2.7.3 in /opt/conda/lib/python3.7/site-packages (from pandas->-r /root/workspace/pytorch-pipeline-1/requirements.txt (line 4)) (2.8.1)\n",
      "Requirement already satisfied: pytz>=2017.3 in /opt/conda/lib/python3.7/site-packages (from pandas->-r /root/workspace/pytorch-pipeline-1/requirements.txt (line 4)) (2021.1)\n",
      "Requirement already satisfied: zipp>=0.5 in /opt/conda/lib/python3.7/site-packages (from importlib-metadata->markdown>=2.6.8->tensorboard>=1.14->-r /root/workspace/pytorch-pipeline-1/requirements.txt (line 7)) (3.4.0)\n",
      "Installing collected packages: argparse\n",
      "Successfully installed argparse-1.4.0\n"
     ]
    }
   ],
   "source": [
    "!pip install -r /root/workspace/pytorch-pipeline-1/requirements.txt"
   ]
  },
  {
   "cell_type": "code",
   "execution_count": 32,
   "metadata": {},
   "outputs": [
    {
     "name": "stdout",
     "output_type": "stream",
     "text": [
      "Traceback (most recent call last):\n",
      "  File \"/root/workspace/pytorch-pipeline-1/data_preprocessing_gpu/test-processing.py\", line 43, in <module>\n",
      "    main()\n",
      "  File \"/root/workspace/pytorch-pipeline-1/data_preprocessing_gpu/test-processing.py\", line 40, in main\n",
      "    test_audio_preprocess_dataset_stft()\n",
      "  File \"/root/workspace/pytorch-pipeline-1/data_preprocessing_gpu/test-processing.py\", line 18, in test_audio_preprocess_dataset_stft\n",
      "    dataset = new_datasets.Audio_preprocess_dataset(config, annotation_df, audio_loader, 'cpu')\n",
      "  File \"/root/workspace/pytorch-pipeline-1/data_preprocessing_gpu/new_datasets.py\", line 87, in __init__\n",
      "    self.annotations = annotation_loader_with_indexes(config['annotations_dir'])\n",
      "KeyError: 'annotations_dir'\n"
     ]
    }
   ],
   "source": [
    "!python3 /root/workspace/pytorch-pipeline-1/data_preprocessing_gpu/test-processing.py"
   ]
  },
  {
   "cell_type": "code",
   "execution_count": 33,
   "metadata": {},
   "outputs": [
    {
     "name": "stdout",
     "output_type": "stream",
     "text": [
      "Using device cuda\n",
      "Traceback (most recent call last):\n",
      "  File \"/root/workspace/pytorch-pipeline-1/data_preprocessing_gpu/new_datasets.py\", line 314, in <module>\n",
      "    main()\n",
      "  File \"/root/workspace/pytorch-pipeline-1/data_preprocessing_gpu/new_datasets.py\", line 311, in main\n",
      "    dataset.preprocess_and_save(batch_size, num_workers, save_as_tensor)\n",
      "  File \"/root/workspace/pytorch-pipeline-1/data_preprocessing_gpu/new_datasets.py\", line 151, in preprocess_and_save\n",
      "    for i, data in enumerate(dataloader):\n",
      "  File \"/opt/conda/lib/python3.7/site-packages/torch/utils/data/dataloader.py\", line 628, in __next__\n",
      "    data = self._next_data()\n",
      "  File \"/opt/conda/lib/python3.7/site-packages/torch/utils/data/dataloader.py\", line 671, in _next_data\n",
      "    data = self._dataset_fetcher.fetch(index)  # may raise StopIteration\n",
      "  File \"/opt/conda/lib/python3.7/site-packages/torch/utils/data/_utils/fetch.py\", line 61, in fetch\n",
      "    return self.collate_fn(data)\n",
      "  File \"/opt/conda/lib/python3.7/site-packages/torch/utils/data/_utils/collate.py\", line 265, in default_collate\n",
      "    return collate(batch, collate_fn_map=default_collate_fn_map)\n",
      "  File \"/opt/conda/lib/python3.7/site-packages/torch/utils/data/_utils/collate.py\", line 120, in collate\n",
      "    return collate_fn_map[elem_type](batch, collate_fn_map=collate_fn_map)\n",
      "  File \"/opt/conda/lib/python3.7/site-packages/torch/utils/data/_utils/collate.py\", line 163, in collate_tensor_fn\n",
      "    return torch.stack(batch, 0, out=out)\n",
      "RuntimeError: stack expects each tensor to be equal size, but got [4, 513, 2682] at entry 0 and [4, 513, 4547] at entry 1\n"
     ]
    }
   ],
   "source": [
    "!python3 /root/workspace/pytorch-pipeline-1/data_preprocessing_gpu/new_datasets.py /root/workspace/pytorch-pipeline-1/data_preprocessing_gpu/preprocessing-config.yml"
   ]
  },
  {
   "cell_type": "code",
   "execution_count": 34,
   "metadata": {},
   "outputs": [
    {
     "name": "stdout",
     "output_type": "stream",
     "text": [
      "Traceback (most recent call last):\n",
      "  File \"/root/workspace/pytorch-pipeline-1/data_preprocessing_gpu/test-processing.py\", line 43, in <module>\n",
      "    main()\n",
      "  File \"/root/workspace/pytorch-pipeline-1/data_preprocessing_gpu/test-processing.py\", line 40, in main\n",
      "    test_audio_preprocess_dataset_stft()\n",
      "  File \"/root/workspace/pytorch-pipeline-1/data_preprocessing_gpu/test-processing.py\", line 18, in test_audio_preprocess_dataset_stft\n",
      "    dataset = new_datasets.Audio_preprocess_dataset(config, annotation_df, audio_loader, 'cpu')\n",
      "  File \"/root/workspace/pytorch-pipeline-1/data_preprocessing_gpu/new_datasets.py\", line 87, in __init__\n",
      "    self.annotations = annotation_loader_with_indexes(config['annotations_dir'])\n",
      "KeyError: 'annotations_dir'\n"
     ]
    }
   ],
   "source": [
    "!python3 /root/workspace/pytorch-pipeline-1/data_preprocessing_gpu/test-processing.py"
   ]
  },
  {
   "attachments": {},
   "cell_type": "markdown",
   "metadata": {},
   "source": [
    "### Test STFT"
   ]
  },
  {
   "cell_type": "code",
   "execution_count": null,
   "metadata": {},
   "outputs": [],
   "source": [
    "!rm -R /root/workspace/dataset_2022/mic_dev/preprocessed_dir"
   ]
  },
  {
   "cell_type": "code",
   "execution_count": 35,
   "metadata": {},
   "outputs": [
    {
     "data": {
      "image/png": "[encoded data removed]",
      "text/plain": [
       "<Figure size 720x288 with 2 Axes>"
      ]
     },
     "metadata": {
      "needs_background": "light"
     },
     "output_type": "display_data"
    }
   ],
   "source": [
    "import numpy as np\n",
    "import matplotlib.pyplot as plt\n",
    "import librosa.display\n",
    "import torch\n",
    "import os \n",
    "import torchaudio\n",
    "\n",
    "tens = torch.load('/root/workspace/dataset_2022/mic_dev/preprocessed_dir/processed_fold4_room23_mix001')\n",
    "\n",
    "S = tens.cpu().numpy()\n",
    "\n",
    "# Plot the spectrogram\n",
    "plt.figure(figsize=(10, 4))\n",
    "librosa.display.specshow(librosa.amplitude_to_db(S[0], ref=np.max), y_axis='log', x_axis='time')\n",
    "plt.title('Spectrogram')\n",
    "plt.colorbar(format='%+2.0f dB')\n",
    "plt.tight_layout()\n",
    "plt.show()"
   ]
  },
  {
   "cell_type": "code",
   "execution_count": 36,
   "metadata": {},
   "outputs": [
    {
     "data": {
      "image/png": "[encoded data removed]",
      "text/plain": [
       "<Figure size 720x288 with 2 Axes>"
      ]
     },
     "metadata": {
      "needs_background": "light"
     },
     "output_type": "display_data"
    }
   ],
   "source": [
    "\n",
    "audio, sr = torchaudio.load('/root/workspace/dataset_2022/mic_dev/dev-test-sony/fold4_room23_mix001.wav')\n",
    "\n",
    "# torch_tensor = torch.from_numpy(audio)\n",
    "\n",
    "# Compute the spectrogram\n",
    "S2 = torchaudio.transforms.Spectrogram(n_fft = 1024, hop_length = 512, window_fn=torch.hann_window)(audio)\n",
    "S2 = S2.cpu().numpy()\n",
    "\n",
    "# Plot the spectrogram\n",
    "plt.figure(figsize=(10, 4))\n",
    "librosa.display.specshow(librosa.amplitude_to_db(S2[0], ref=np.max), y_axis='log', x_axis='time')\n",
    "plt.title('Spectrogram')\n",
    "plt.colorbar(format='%+2.0f dB')\n",
    "plt.tight_layout()\n",
    "plt.show()"
   ]
  },
  {
   "cell_type": "code",
   "execution_count": 37,
   "metadata": {},
   "outputs": [
    {
     "data": {
      "text/plain": [
       "0.0"
      ]
     },
     "execution_count": 37,
     "metadata": {},
     "output_type": "execute_result"
    }
   ],
   "source": [
    "np.linalg.norm(S2-S)"
   ]
  },
  {
   "attachments": {},
   "cell_type": "markdown",
   "metadata": {},
   "source": [
    "### Test Power Spectrogram"
   ]
  },
  {
   "cell_type": "code",
   "execution_count": 51,
   "metadata": {},
   "outputs": [],
   "source": [
    "!rm -R /root/workspace/dataset_2022/mic_dev/preprocessed_dir"
   ]
  },
  {
   "cell_type": "code",
   "execution_count": 52,
   "metadata": {},
   "outputs": [
    {
     "name": "stdout",
     "output_type": "stream",
     "text": [
      "Using device cuda\n",
      "0\n",
      "1\n",
      "2\n",
      "3\n",
      "4\n",
      "5\n",
      "6\n",
      "7\n",
      "8\n",
      "9\n",
      "10\n",
      "11\n",
      "12\n",
      "13\n",
      "14\n",
      "15\n",
      "16\n",
      "17\n",
      "18\n",
      "19\n",
      "20\n",
      "21\n",
      "22\n",
      "23\n",
      "24\n",
      "25\n",
      "26\n",
      "27\n",
      "28\n",
      "29\n"
     ]
    }
   ],
   "source": [
    "from torch.utils.data import Dataset\n",
    "import new_datasets\n",
    "\n",
    "config = {'annotations_dir': '/root/workspace/dataset_2022/metadata_dev/dev-test-sony',\n",
    "'audio_dir': '/root/workspace/dataset_2022/mic_dev/dev-test-sony',\n",
    "'preprocessed_data_dir' : '/root/workspace/dataset_2022/mic_dev/preprocessed_dir',\n",
    "'sample_rate': 22050,'num_samples': 22050,\n",
    "'transforms': [{'type': 'PowerSpectrogram','n_fft': 1024,'hop_length': 512,'window': 'hann'}]}\n",
    "\n",
    "device = torch.device(\"cuda\" if torch.cuda.is_available() else \"cpu\")\n",
    "print(f\"Using device {device}\")\n",
    "\n",
    "# create the dataset\n",
    "dataset = new_datasets.Audio_preprocess_dataset(config=config, annotation_loader_with_indexes=new_datasets.load_annotations_with_indexes, \n",
    "audio_loader=new_datasets.load_audio, device=device)\n",
    "\n",
    "# # preprocess and save the audio data\n",
    "batch_size = 1\n",
    "num_workers = 0\n",
    "save_as_tensor = True\n",
    "dataset.preprocess_and_save(batch_size, num_workers, save_as_tensor)"
   ]
  },
  {
   "cell_type": "code",
   "execution_count": 53,
   "metadata": {},
   "outputs": [],
   "source": [
    "tens = torch.load('/root/workspace/dataset_2022/mic_dev/preprocessed_dir/processed_fold4_room23_mix001')\n",
    "\n",
    "S = tens.cpu().numpy()"
   ]
  },
  {
   "cell_type": "code",
   "execution_count": 58,
   "metadata": {},
   "outputs": [],
   "source": [
    "audio, sr = torchaudio.load('/root/workspace/dataset_2022/mic_dev/dev-test-sony/fold4_room23_mix001.wav')\n",
    "\n",
    "# torch_tensor = torch.from_numpy(audio)\n",
    "\n",
    "# Compute the spectrogram\n",
    "S2 = torchaudio.transforms.Spectrogram(n_fft = 1024, hop_length = 512, window_fn=torch.hann_window,power=2)(audio)\n",
    "S2 = S2.cpu().numpy()"
   ]
  },
  {
   "cell_type": "code",
   "execution_count": 59,
   "metadata": {},
   "outputs": [
    {
     "data": {
      "text/plain": [
       "0.0"
      ]
     },
     "execution_count": 59,
     "metadata": {},
     "output_type": "execute_result"
    }
   ],
   "source": [
    "np.linalg.norm(S-S2)"
   ]
  },
  {
   "attachments": {},
   "cell_type": "markdown",
   "metadata": {},
   "source": [
    "### Test Mel Spectrogram"
   ]
  },
  {
   "cell_type": "code",
   "execution_count": 71,
   "metadata": {},
   "outputs": [],
   "source": [
    "!rm -R /root/workspace/dataset_2022/mic_dev/preprocessed_dir"
   ]
  },
  {
   "cell_type": "code",
   "execution_count": 72,
   "metadata": {},
   "outputs": [
    {
     "name": "stdout",
     "output_type": "stream",
     "text": [
      "Using device cuda\n"
     ]
    },
    {
     "name": "stderr",
     "output_type": "stream",
     "text": [
      "/opt/conda/lib/python3.7/site-packages/torchaudio/functional/functional.py:572: UserWarning: At least one mel filterbank has all zero values. The value for `n_mels` (128) may be set too high. Or, the value for `n_freqs` (201) may be set too low.\n",
      "  \"At least one mel filterbank has all zero values. \"\n"
     ]
    },
    {
     "name": "stdout",
     "output_type": "stream",
     "text": [
      "0\n",
      "1\n",
      "2\n",
      "3\n",
      "4\n",
      "5\n",
      "6\n",
      "7\n",
      "8\n",
      "9\n",
      "10\n",
      "11\n",
      "12\n",
      "13\n",
      "14\n",
      "15\n",
      "16\n",
      "17\n",
      "18\n",
      "19\n",
      "20\n",
      "21\n",
      "22\n",
      "23\n",
      "24\n",
      "25\n",
      "26\n",
      "27\n",
      "28\n",
      "29\n"
     ]
    }
   ],
   "source": [
    "from torch.utils.data import Dataset\n",
    "import new_datasets\n",
    "\n",
    "config = {'annotations_dir': '/root/workspace/dataset_2022/metadata_dev/dev-test-sony',\n",
    "'audio_dir': '/root/workspace/dataset_2022/mic_dev/dev-test-sony',\n",
    "'preprocessed_data_dir' : '/root/workspace/dataset_2022/mic_dev/preprocessed_dir',\n",
    "'sample_rate': 22050,'num_samples': 22050,\n",
    "'transforms': [{'type': 'MelSpectrogram','n_mels':128,'n_fft': 1024,'hop_length': 512,'window': 'hann'}]}\n",
    "\n",
    "device = torch.device(\"cuda\" if torch.cuda.is_available() else \"cpu\")\n",
    "print(f\"Using device {device}\")\n",
    "\n",
    "# create the dataset\n",
    "dataset = new_datasets.Audio_preprocess_dataset(config=config, annotation_loader_with_indexes=new_datasets.load_annotations_with_indexes, \n",
    "audio_loader=new_datasets.load_audio, device=device)\n",
    "\n",
    "# # preprocess and save the audio data\n",
    "batch_size = 1\n",
    "num_workers = 0\n",
    "save_as_tensor = True\n",
    "dataset.preprocess_and_save(batch_size, num_workers, save_as_tensor)"
   ]
  },
  {
   "cell_type": "code",
   "execution_count": 73,
   "metadata": {},
   "outputs": [],
   "source": [
    "tens = torch.load('/root/workspace/dataset_2022/mic_dev/preprocessed_dir/processed_fold4_room23_mix001')\n",
    "\n",
    "S = tens.cpu().numpy()"
   ]
  },
  {
   "cell_type": "code",
   "execution_count": 74,
   "metadata": {},
   "outputs": [],
   "source": [
    "audio, sr = torchaudio.load('/root/workspace/dataset_2022/mic_dev/dev-test-sony/fold4_room23_mix001.wav')\n",
    "\n",
    "# torch_tensor = torch.from_numpy(audio)\n",
    "\n",
    "# Compute the spectrogram\n",
    "S2 = torchaudio.transforms.MelSpectrogram(sample_rate=config['sample_rate'], n_mels=config['transforms'][0]['n_mels'],n_fft=config['transforms'][0]['n_fft'], \n",
    "            hop_length=config['transforms'][0]['hop_length'],window_fn=torch.hann_window)(audio)\n",
    "S2 = S2.cpu().numpy()"
   ]
  },
  {
   "cell_type": "code",
   "execution_count": 75,
   "metadata": {},
   "outputs": [
    {
     "ename": "ValueError",
     "evalue": "operands could not be broadcast together with shapes (4,128,7285) (4,128,2846) ",
     "output_type": "error",
     "traceback": [
      "\u001b[0;31m---------------------------------------------------------------------------\u001b[0m",
      "\u001b[0;31mValueError\u001b[0m                                Traceback (most recent call last)",
      "\u001b[0;32m<ipython-input-75-92168f2279c5>\u001b[0m in \u001b[0;36m<module>\u001b[0;34m\u001b[0m\n\u001b[0;32m----> 1\u001b[0;31m \u001b[0mnp\u001b[0m\u001b[0;34m.\u001b[0m\u001b[0mlinalg\u001b[0m\u001b[0;34m.\u001b[0m\u001b[0mnorm\u001b[0m\u001b[0;34m(\u001b[0m\u001b[0mS\u001b[0m\u001b[0;34m-\u001b[0m\u001b[0mS2\u001b[0m\u001b[0;34m)\u001b[0m\u001b[0;34m\u001b[0m\u001b[0;34m\u001b[0m\u001b[0m\n\u001b[0m",
      "\u001b[0;31mValueError\u001b[0m: operands could not be broadcast together with shapes (4,128,7285) (4,128,2846) "
     ]
    }
   ],
   "source": [
    "np.linalg.norm(S-S2)"
   ]
  },
  {
   "attachments": {},
   "cell_type": "markdown",
   "metadata": {},
   "source": [
    "### Test Scaling"
   ]
  },
  {
   "cell_type": "code",
   "execution_count": 100,
   "metadata": {},
   "outputs": [],
   "source": [
    "!rm -R /root/workspace/dataset_2022/mic_dev/preprocessed_dir"
   ]
  },
  {
   "cell_type": "code",
   "execution_count": 1,
   "metadata": {},
   "outputs": [
    {
     "name": "stdout",
     "output_type": "stream",
     "text": [
      "Using device cuda\n",
      "0\n",
      "1\n",
      "2\n",
      "3\n",
      "4\n",
      "5\n",
      "6\n",
      "7\n",
      "8\n",
      "9\n",
      "10\n",
      "11\n",
      "12\n",
      "13\n",
      "14\n",
      "15\n",
      "16\n",
      "17\n",
      "18\n",
      "19\n",
      "20\n",
      "21\n",
      "22\n",
      "23\n",
      "24\n",
      "25\n",
      "26\n",
      "27\n",
      "28\n",
      "29\n"
     ]
    }
   ],
   "source": [
    "from torch.utils.data import Dataset\n",
    "from new_datasets import *\n",
    "\n",
    "config = {'annotations_dir': '/root/workspace/dataset_2022/metadata_dev/dev-test-sony',\n",
    "'audio_dir': '/root/workspace/dataset_2022/mic_dev/dev-test-sony',\n",
    "'preprocessed_data_dir' : '/root/workspace/dataset_2022/mic_dev/preprocessed_dir',\n",
    "'sample_rate': 22050,'num_samples': 22050,\n",
    "'transforms': [{'type': 'Scale','mean': 0,'std': 1}]}\n",
    "\n",
    "device = torch.device(\"cuda\" if torch.cuda.is_available() else \"cpu\")\n",
    "print(f\"Using device {device}\")\n",
    "\n",
    "# create the dataset\n",
    "dataset = Audio_preprocess_dataset(config=config, annotation_loader_with_indexes=load_annotations_with_indexes, \n",
    "audio_loader=load_audio, device=device)\n",
    "\n",
    "# # preprocess and save the audio data\n",
    "batch_size = 1\n",
    "num_workers = 0\n",
    "save_as_tensor = True\n",
    "dataset.preprocess_and_save(batch_size, num_workers, save_as_tensor)"
   ]
  },
  {
   "cell_type": "code",
   "execution_count": 2,
   "metadata": {},
   "outputs": [],
   "source": [
    "tens = torch.load('/root/workspace/dataset_2022/mic_dev/preprocessed_dir/processed_fold4_room23_mix001')\n",
    "\n",
    "S = tens.cpu().numpy()"
   ]
  },
  {
   "cell_type": "code",
   "execution_count": 3,
   "metadata": {},
   "outputs": [],
   "source": [
    "audio, sr = torchaudio.load('/root/workspace/dataset_2022/mic_dev/dev-test-sony/fold4_room23_mix001.wav')\n",
    "\n",
    "# Compute the spectrogram\n",
    "S2 = config['transforms'][0]['mean']+config['transforms'][0]['std']*(audio-audio.mean())/audio.std()\n",
    "S2 = S2.cpu().numpy()"
   ]
  },
  {
   "cell_type": "code",
   "execution_count": 4,
   "metadata": {},
   "outputs": [
    {
     "data": {
      "text/plain": [
       "0.0"
      ]
     },
     "execution_count": 4,
     "metadata": {},
     "output_type": "execute_result"
    }
   ],
   "source": [
    "np.linalg.norm(S-S2)"
   ]
  },
  {
   "attachments": {},
   "cell_type": "markdown",
   "metadata": {},
   "source": [
    "### Test MFCC"
   ]
  },
  {
   "cell_type": "code",
   "execution_count": 1,
   "metadata": {},
   "outputs": [],
   "source": [
    "!rm -R /root/workspace/dataset_2022/mic_dev/preprocessed_dir"
   ]
  },
  {
   "cell_type": "code",
   "execution_count": 4,
   "metadata": {},
   "outputs": [
    {
     "name": "stdout",
     "output_type": "stream",
     "text": [
      "Using device cuda\n"
     ]
    },
    {
     "name": "stderr",
     "output_type": "stream",
     "text": [
      "/opt/conda/lib/python3.7/site-packages/torchaudio/functional/functional.py:572: UserWarning: At least one mel filterbank has all zero values. The value for `n_mels` (128) may be set too high. Or, the value for `n_freqs` (201) may be set too low.\n",
      "  \"At least one mel filterbank has all zero values. \"\n"
     ]
    },
    {
     "name": "stdout",
     "output_type": "stream",
     "text": [
      "0\n",
      "1\n",
      "2\n",
      "3\n",
      "4\n",
      "5\n",
      "6\n",
      "7\n",
      "8\n",
      "9\n",
      "10\n",
      "11\n",
      "12\n",
      "13\n",
      "14\n",
      "15\n",
      "16\n",
      "17\n",
      "18\n",
      "19\n",
      "20\n",
      "21\n",
      "22\n",
      "23\n",
      "24\n",
      "25\n",
      "26\n",
      "27\n",
      "28\n",
      "29\n"
     ]
    }
   ],
   "source": [
    "from torch.utils.data import Dataset\n",
    "import new_datasets\n",
    "import torch\n",
    "\n",
    "config = {'annotations_dir': '/root/workspace/dataset_2022/metadata_dev/dev-test-sony',\n",
    "'audio_dir': '/root/workspace/dataset_2022/mic_dev/dev-test-sony',\n",
    "'preprocessed_data_dir' : '/root/workspace/dataset_2022/mic_dev/preprocessed_dir',\n",
    "'sample_rate': 22050,'num_samples': 22050,\n",
    "'transforms': [{'type': 'MFCC','n_mfcc': 7}]}\n",
    "device = torch.device(\"cuda\" if torch.cuda.is_available() else \"cpu\")\n",
    "print(f\"Using device {device}\")\n",
    "\n",
    "# create the dataset\n",
    "dataset = new_datasets.Audio_preprocess_dataset(config=config, annotation_loader_with_indexes=new_datasets.load_annotations_with_indexes, \n",
    "audio_loader=new_datasets.load_audio, device=device)\n",
    "\n",
    "# # preprocess and save the audio data\n",
    "batch_size = 1\n",
    "num_workers = 0\n",
    "save_as_tensor = True\n",
    "dataset.preprocess_and_save(batch_size, num_workers, save_as_tensor)"
   ]
  },
  {
   "cell_type": "code",
   "execution_count": 9,
   "metadata": {},
   "outputs": [],
   "source": [
    "tens = torch.load('/root/workspace/dataset_2022/mic_dev/preprocessed_dir/processed_fold4_room23_mix001')\n",
    "\n",
    "S = tens.cpu().numpy()"
   ]
  },
  {
   "cell_type": "code",
   "execution_count": 6,
   "metadata": {},
   "outputs": [
    {
     "name": "stderr",
     "output_type": "stream",
     "text": [
      "/opt/conda/lib/python3.7/site-packages/torchaudio/functional/functional.py:572: UserWarning: At least one mel filterbank has all zero values. The value for `n_mels` (128) may be set too high. Or, the value for `n_freqs` (201) may be set too low.\n",
      "  \"At least one mel filterbank has all zero values. \"\n"
     ]
    }
   ],
   "source": [
    "import torchaudio\n",
    "\n",
    "audio, sr = torchaudio.load('/root/workspace/dataset_2022/mic_dev/dev-test-sony/fold4_room23_mix001.wav')\n",
    "\n",
    "# Compute the spectrogram\n",
    "S2 = torchaudio.transforms.MFCC(sample_rate=config['sample_rate'], n_mfcc=config['transforms'][0]['n_mfcc'])(audio)\n",
    "S2 = S2.cpu().numpy()"
   ]
  },
  {
   "cell_type": "code",
   "execution_count": 10,
   "metadata": {},
   "outputs": [
    {
     "data": {
      "text/plain": [
       "0.0"
      ]
     },
     "execution_count": 10,
     "metadata": {},
     "output_type": "execute_result"
    }
   ],
   "source": [
    "import numpy as np\n",
    "\n",
    "np.linalg.norm(S-S2)"
   ]
  },
  {
   "attachments": {},
   "cell_type": "markdown",
   "metadata": {},
   "source": [
    "### Test MinMax Scaler "
   ]
  },
  {
   "cell_type": "code",
   "execution_count": 11,
   "metadata": {},
   "outputs": [],
   "source": [
    "!rm -R /root/workspace/dataset_2022/mic_dev/preprocessed_dir"
   ]
  },
  {
   "cell_type": "code",
   "execution_count": 2,
   "metadata": {},
   "outputs": [
    {
     "name": "stdout",
     "output_type": "stream",
     "text": [
      "Using device cuda\n",
      "0\n",
      "1\n",
      "2\n",
      "3\n",
      "4\n",
      "5\n",
      "6\n",
      "7\n",
      "8\n",
      "9\n",
      "10\n",
      "11\n",
      "12\n",
      "13\n",
      "14\n",
      "15\n",
      "16\n",
      "17\n",
      "18\n",
      "19\n",
      "20\n",
      "21\n",
      "22\n",
      "23\n",
      "24\n",
      "25\n",
      "26\n",
      "27\n",
      "28\n",
      "29\n"
     ]
    }
   ],
   "source": [
    "from torch.utils.data import Dataset\n",
    "import new_datasets\n",
    "import torch\n",
    "\n",
    "config = {'annotations_dir': '/root/workspace/dataset_2022/metadata_dev/dev-test-sony',\n",
    "'audio_dir': '/root/workspace/dataset_2022/mic_dev/dev-test-sony',\n",
    "'preprocessed_data_dir' : '/root/workspace/dataset_2022/mic_dev/preprocessed_dir',\n",
    "'sample_rate': 22050,'num_samples': 22050,\n",
    "'transforms': [{'type': 'MinMaxScaler','min': 0,'max' : 1}]}\n",
    "device = torch.device(\"cuda\" if torch.cuda.is_available() else \"cpu\")\n",
    "print(f\"Using device {device}\")\n",
    "\n",
    "# create the dataset\n",
    "dataset = new_datasets.Audio_preprocess_dataset(config=config, annotation_loader_with_indexes=new_datasets.load_annotations_with_indexes, \n",
    "audio_loader=new_datasets.load_audio, device=device)\n",
    "\n",
    "# # preprocess and save the audio data\n",
    "batch_size = 1\n",
    "num_workers = 0\n",
    "save_as_tensor = True\n",
    "dataset.preprocess_and_save(batch_size, num_workers, save_as_tensor)"
   ]
  },
  {
   "cell_type": "code",
   "execution_count": 3,
   "metadata": {},
   "outputs": [],
   "source": [
    "tens = torch.load('/root/workspace/dataset_2022/mic_dev/preprocessed_dir/processed_fold4_room23_mix001')\n",
    "\n",
    "S = tens.cpu().numpy()"
   ]
  },
  {
   "cell_type": "code",
   "execution_count": 7,
   "metadata": {},
   "outputs": [],
   "source": [
    "import torchaudio\n",
    "\n",
    "audio, sr = torchaudio.load('/root/workspace/dataset_2022/mic_dev/dev-test-sony/fold4_room23_mix001.wav')\n",
    "\n",
    "# Compute the spectrogram\n",
    "S2 = (audio-audio.min())/(audio.max()-audio.min())\n",
    "S2 = S2.cpu().numpy()"
   ]
  },
  {
   "cell_type": "code",
   "execution_count": 8,
   "metadata": {},
   "outputs": [
    {
     "data": {
      "text/plain": [
       "0.0"
      ]
     },
     "execution_count": 8,
     "metadata": {},
     "output_type": "execute_result"
    }
   ],
   "source": [
    "import numpy as np\n",
    "\n",
    "np.linalg.norm(S-S2)"
   ]
  },
  {
   "attachments": {},
   "cell_type": "markdown",
   "metadata": {},
   "source": [
    "### Test Amplitude to dB"
   ]
  },
  {
   "cell_type": "code",
   "execution_count": null,
   "metadata": {},
   "outputs": [],
   "source": [
    "!rm -R /root/workspace/dataset_2022/mic_dev/preprocessed_dir"
   ]
  },
  {
   "cell_type": "code",
   "execution_count": 12,
   "metadata": {},
   "outputs": [
    {
     "name": "stdout",
     "output_type": "stream",
     "text": [
      "Using device cuda\n",
      "0\n",
      "1\n",
      "2\n",
      "3\n",
      "4\n",
      "5\n",
      "6\n",
      "7\n",
      "8\n",
      "9\n",
      "10\n",
      "11\n",
      "12\n",
      "13\n",
      "14\n",
      "15\n",
      "16\n",
      "17\n",
      "18\n",
      "19\n",
      "20\n",
      "21\n",
      "22\n",
      "23\n",
      "24\n",
      "25\n",
      "26\n",
      "27\n",
      "28\n",
      "29\n"
     ]
    }
   ],
   "source": [
    "from torch.utils.data import Dataset\n",
    "import new_datasets\n",
    "\n",
    "config = {'annotations_dir': '/root/workspace/dataset_2022/metadata_dev/dev-test-sony',\n",
    "'audio_dir': '/root/workspace/dataset_2022/mic_dev/dev-test-sony',\n",
    "'preprocessed_data_dir' : '/root/workspace/dataset_2022/mic_dev/preprocessed_dir',\n",
    "'sample_rate': 22050,'num_samples': 22050,\n",
    "'transforms': [{'type': 'AmplitudeToDB'}]}\n",
    "device = torch.device(\"cuda\" if torch.cuda.is_available() else \"cpu\")\n",
    "print(f\"Using device {device}\")\n",
    "\n",
    "# create the dataset\n",
    "dataset = new_datasets.Audio_preprocess_dataset(config=config, annotation_loader_with_indexes=new_datasets.load_annotations_with_indexes, \n",
    "audio_loader=new_datasets.load_audio, device=device)\n",
    "\n",
    "# # preprocess and save the audio data\n",
    "batch_size = 1\n",
    "num_workers = 0\n",
    "save_as_tensor = True\n",
    "dataset.preprocess_and_save(batch_size, num_workers, save_as_tensor)"
   ]
  },
  {
   "cell_type": "code",
   "execution_count": 13,
   "metadata": {},
   "outputs": [],
   "source": [
    "tens = torch.load('/root/workspace/dataset_2022/mic_dev/preprocessed_dir/processed_fold4_room23_mix001')\n",
    "\n",
    "S = tens.cpu().numpy()"
   ]
  },
  {
   "cell_type": "code",
   "execution_count": 14,
   "metadata": {},
   "outputs": [],
   "source": [
    "import torchaudio\n",
    "\n",
    "audio, sr = torchaudio.load('/root/workspace/dataset_2022/mic_dev/dev-test-sony/fold4_room23_mix001.wav')\n",
    "\n",
    "S2 = torchaudio.transforms.AmplitudeToDB()(audio)\n",
    "# Compute the decibel transform\n",
    "S2 = S2.cpu().numpy()"
   ]
  },
  {
   "cell_type": "code",
   "execution_count": 15,
   "metadata": {},
   "outputs": [
    {
     "data": {
      "text/plain": [
       "0.0"
      ]
     },
     "execution_count": 15,
     "metadata": {},
     "output_type": "execute_result"
    }
   ],
   "source": [
    "import numpy as np\n",
    "\n",
    "np.linalg.norm(S-S2)"
   ]
  },
  {
   "attachments": {},
   "cell_type": "markdown",
   "metadata": {},
   "source": [
    "### Test Time Stretch"
   ]
  },
  {
   "cell_type": "code",
   "execution_count": 16,
   "metadata": {},
   "outputs": [],
   "source": [
    "!rm -R /root/workspace/dataset_2022/mic_dev/preprocessed_dir"
   ]
  },
  {
   "cell_type": "code",
   "execution_count": 1,
   "metadata": {},
   "outputs": [
    {
     "name": "stdout",
     "output_type": "stream",
     "text": [
      "Using device cuda\n"
     ]
    },
    {
     "ename": "TypeError",
     "evalue": "'str' object is not callable",
     "output_type": "error",
     "traceback": [
      "\u001b[0;31m---------------------------------------------------------------------------\u001b[0m",
      "\u001b[0;31mTypeError\u001b[0m                                 Traceback (most recent call last)",
      "\u001b[0;32m<ipython-input-1-0c1189509974>\u001b[0m in \u001b[0;36m<module>\u001b[0;34m\u001b[0m\n\u001b[1;32m     19\u001b[0m \u001b[0mnum_workers\u001b[0m \u001b[0;34m=\u001b[0m \u001b[0;36m0\u001b[0m\u001b[0;34m\u001b[0m\u001b[0;34m\u001b[0m\u001b[0m\n\u001b[1;32m     20\u001b[0m \u001b[0msave_as_tensor\u001b[0m \u001b[0;34m=\u001b[0m \u001b[0;32mTrue\u001b[0m\u001b[0;34m\u001b[0m\u001b[0;34m\u001b[0m\u001b[0m\n\u001b[0;32m---> 21\u001b[0;31m \u001b[0mdataset\u001b[0m\u001b[0;34m.\u001b[0m\u001b[0mpreprocess_and_save\u001b[0m\u001b[0;34m(\u001b[0m\u001b[0mbatch_size\u001b[0m\u001b[0;34m,\u001b[0m \u001b[0mnum_workers\u001b[0m\u001b[0;34m,\u001b[0m \u001b[0msave_as_tensor\u001b[0m\u001b[0;34m)\u001b[0m\u001b[0;34m\u001b[0m\u001b[0;34m\u001b[0m\u001b[0m\n\u001b[0m",
      "\u001b[0;32m~/workspace/pytorch-pipeline-1/data_preprocessing_gpu/new_datasets.py\u001b[0m in \u001b[0;36mpreprocess_and_save\u001b[0;34m(self, batch_size, num_workers, save_as_tensor)\u001b[0m\n\u001b[1;32m    149\u001b[0m         \"\"\"\n\u001b[1;32m    150\u001b[0m         \u001b[0mdataloader\u001b[0m \u001b[0;34m=\u001b[0m \u001b[0mtorch\u001b[0m\u001b[0;34m.\u001b[0m\u001b[0mutils\u001b[0m\u001b[0;34m.\u001b[0m\u001b[0mdata\u001b[0m\u001b[0;34m.\u001b[0m\u001b[0mDataLoader\u001b[0m\u001b[0;34m(\u001b[0m\u001b[0mdataset\u001b[0m\u001b[0;34m=\u001b[0m\u001b[0mself\u001b[0m\u001b[0;34m,\u001b[0m \u001b[0mbatch_size\u001b[0m\u001b[0;34m=\u001b[0m\u001b[0mbatch_size\u001b[0m\u001b[0;34m,\u001b[0m \u001b[0mnum_workers\u001b[0m\u001b[0;34m=\u001b[0m\u001b[0mnum_workers\u001b[0m\u001b[0;34m,\u001b[0m \u001b[0mshuffle\u001b[0m\u001b[0;34m=\u001b[0m\u001b[0;32mFalse\u001b[0m\u001b[0;34m)\u001b[0m\u001b[0;34m\u001b[0m\u001b[0;34m\u001b[0m\u001b[0m\n\u001b[0;32m--> 151\u001b[0;31m         \u001b[0;32mfor\u001b[0m \u001b[0mi\u001b[0m\u001b[0;34m,\u001b[0m \u001b[0mdata\u001b[0m \u001b[0;32min\u001b[0m \u001b[0menumerate\u001b[0m\u001b[0;34m(\u001b[0m\u001b[0mdataloader\u001b[0m\u001b[0;34m)\u001b[0m\u001b[0;34m:\u001b[0m\u001b[0;34m\u001b[0m\u001b[0;34m\u001b[0m\u001b[0m\n\u001b[0m\u001b[1;32m    152\u001b[0m             \u001b[0mprint\u001b[0m\u001b[0;34m(\u001b[0m\u001b[0mi\u001b[0m\u001b[0;34m)\u001b[0m\u001b[0;34m\u001b[0m\u001b[0;34m\u001b[0m\u001b[0m\n\u001b[1;32m    153\u001b[0m             \u001b[0msignals\u001b[0m \u001b[0;34m=\u001b[0m \u001b[0mdata\u001b[0m\u001b[0;34m\u001b[0m\u001b[0;34m\u001b[0m\u001b[0m\n",
      "\u001b[0;32m/opt/conda/lib/python3.7/site-packages/torch/utils/data/dataloader.py\u001b[0m in \u001b[0;36m__next__\u001b[0;34m(self)\u001b[0m\n\u001b[1;32m    626\u001b[0m                 \u001b[0;31m# TODO(https://github.com/pytorch/pytorch/issues/76750)\u001b[0m\u001b[0;34m\u001b[0m\u001b[0;34m\u001b[0m\u001b[0;34m\u001b[0m\u001b[0m\n\u001b[1;32m    627\u001b[0m                 \u001b[0mself\u001b[0m\u001b[0;34m.\u001b[0m\u001b[0m_reset\u001b[0m\u001b[0;34m(\u001b[0m\u001b[0;34m)\u001b[0m  \u001b[0;31m# type: ignore[call-arg]\u001b[0m\u001b[0;34m\u001b[0m\u001b[0;34m\u001b[0m\u001b[0m\n\u001b[0;32m--> 628\u001b[0;31m             \u001b[0mdata\u001b[0m \u001b[0;34m=\u001b[0m \u001b[0mself\u001b[0m\u001b[0;34m.\u001b[0m\u001b[0m_next_data\u001b[0m\u001b[0;34m(\u001b[0m\u001b[0;34m)\u001b[0m\u001b[0;34m\u001b[0m\u001b[0;34m\u001b[0m\u001b[0m\n\u001b[0m\u001b[1;32m    629\u001b[0m             \u001b[0mself\u001b[0m\u001b[0;34m.\u001b[0m\u001b[0m_num_yielded\u001b[0m \u001b[0;34m+=\u001b[0m \u001b[0;36m1\u001b[0m\u001b[0;34m\u001b[0m\u001b[0;34m\u001b[0m\u001b[0m\n\u001b[1;32m    630\u001b[0m             \u001b[0;32mif\u001b[0m \u001b[0mself\u001b[0m\u001b[0;34m.\u001b[0m\u001b[0m_dataset_kind\u001b[0m \u001b[0;34m==\u001b[0m \u001b[0m_DatasetKind\u001b[0m\u001b[0;34m.\u001b[0m\u001b[0mIterable\u001b[0m \u001b[0;32mand\u001b[0m\u001b[0;31m \u001b[0m\u001b[0;31m\\\u001b[0m\u001b[0;34m\u001b[0m\u001b[0;34m\u001b[0m\u001b[0m\n",
      "\u001b[0;32m/opt/conda/lib/python3.7/site-packages/torch/utils/data/dataloader.py\u001b[0m in \u001b[0;36m_next_data\u001b[0;34m(self)\u001b[0m\n\u001b[1;32m    669\u001b[0m     \u001b[0;32mdef\u001b[0m \u001b[0m_next_data\u001b[0m\u001b[0;34m(\u001b[0m\u001b[0mself\u001b[0m\u001b[0;34m)\u001b[0m\u001b[0;34m:\u001b[0m\u001b[0;34m\u001b[0m\u001b[0;34m\u001b[0m\u001b[0m\n\u001b[1;32m    670\u001b[0m         \u001b[0mindex\u001b[0m \u001b[0;34m=\u001b[0m \u001b[0mself\u001b[0m\u001b[0;34m.\u001b[0m\u001b[0m_next_index\u001b[0m\u001b[0;34m(\u001b[0m\u001b[0;34m)\u001b[0m  \u001b[0;31m# may raise StopIteration\u001b[0m\u001b[0;34m\u001b[0m\u001b[0;34m\u001b[0m\u001b[0m\n\u001b[0;32m--> 671\u001b[0;31m         \u001b[0mdata\u001b[0m \u001b[0;34m=\u001b[0m \u001b[0mself\u001b[0m\u001b[0;34m.\u001b[0m\u001b[0m_dataset_fetcher\u001b[0m\u001b[0;34m.\u001b[0m\u001b[0mfetch\u001b[0m\u001b[0;34m(\u001b[0m\u001b[0mindex\u001b[0m\u001b[0;34m)\u001b[0m  \u001b[0;31m# may raise StopIteration\u001b[0m\u001b[0;34m\u001b[0m\u001b[0;34m\u001b[0m\u001b[0m\n\u001b[0m\u001b[1;32m    672\u001b[0m         \u001b[0;32mif\u001b[0m \u001b[0mself\u001b[0m\u001b[0;34m.\u001b[0m\u001b[0m_pin_memory\u001b[0m\u001b[0;34m:\u001b[0m\u001b[0;34m\u001b[0m\u001b[0;34m\u001b[0m\u001b[0m\n\u001b[1;32m    673\u001b[0m             \u001b[0mdata\u001b[0m \u001b[0;34m=\u001b[0m \u001b[0m_utils\u001b[0m\u001b[0;34m.\u001b[0m\u001b[0mpin_memory\u001b[0m\u001b[0;34m.\u001b[0m\u001b[0mpin_memory\u001b[0m\u001b[0;34m(\u001b[0m\u001b[0mdata\u001b[0m\u001b[0;34m,\u001b[0m \u001b[0mself\u001b[0m\u001b[0;34m.\u001b[0m\u001b[0m_pin_memory_device\u001b[0m\u001b[0;34m)\u001b[0m\u001b[0;34m\u001b[0m\u001b[0;34m\u001b[0m\u001b[0m\n",
      "\u001b[0;32m/opt/conda/lib/python3.7/site-packages/torch/utils/data/_utils/fetch.py\u001b[0m in \u001b[0;36mfetch\u001b[0;34m(self, possibly_batched_index)\u001b[0m\n\u001b[1;32m     56\u001b[0m                 \u001b[0mdata\u001b[0m \u001b[0;34m=\u001b[0m \u001b[0mself\u001b[0m\u001b[0;34m.\u001b[0m\u001b[0mdataset\u001b[0m\u001b[0;34m.\u001b[0m\u001b[0m__getitems__\u001b[0m\u001b[0;34m(\u001b[0m\u001b[0mpossibly_batched_index\u001b[0m\u001b[0;34m)\u001b[0m\u001b[0;34m\u001b[0m\u001b[0;34m\u001b[0m\u001b[0m\n\u001b[1;32m     57\u001b[0m             \u001b[0;32melse\u001b[0m\u001b[0;34m:\u001b[0m\u001b[0;34m\u001b[0m\u001b[0;34m\u001b[0m\u001b[0m\n\u001b[0;32m---> 58\u001b[0;31m                 \u001b[0mdata\u001b[0m \u001b[0;34m=\u001b[0m \u001b[0;34m[\u001b[0m\u001b[0mself\u001b[0m\u001b[0;34m.\u001b[0m\u001b[0mdataset\u001b[0m\u001b[0;34m[\u001b[0m\u001b[0midx\u001b[0m\u001b[0;34m]\u001b[0m \u001b[0;32mfor\u001b[0m \u001b[0midx\u001b[0m \u001b[0;32min\u001b[0m \u001b[0mpossibly_batched_index\u001b[0m\u001b[0;34m]\u001b[0m\u001b[0;34m\u001b[0m\u001b[0;34m\u001b[0m\u001b[0m\n\u001b[0m\u001b[1;32m     59\u001b[0m         \u001b[0;32melse\u001b[0m\u001b[0;34m:\u001b[0m\u001b[0;34m\u001b[0m\u001b[0;34m\u001b[0m\u001b[0m\n\u001b[1;32m     60\u001b[0m             \u001b[0mdata\u001b[0m \u001b[0;34m=\u001b[0m \u001b[0mself\u001b[0m\u001b[0;34m.\u001b[0m\u001b[0mdataset\u001b[0m\u001b[0;34m[\u001b[0m\u001b[0mpossibly_batched_index\u001b[0m\u001b[0;34m]\u001b[0m\u001b[0;34m\u001b[0m\u001b[0;34m\u001b[0m\u001b[0m\n",
      "\u001b[0;32m/opt/conda/lib/python3.7/site-packages/torch/utils/data/_utils/fetch.py\u001b[0m in \u001b[0;36m<listcomp>\u001b[0;34m(.0)\u001b[0m\n\u001b[1;32m     56\u001b[0m                 \u001b[0mdata\u001b[0m \u001b[0;34m=\u001b[0m \u001b[0mself\u001b[0m\u001b[0;34m.\u001b[0m\u001b[0mdataset\u001b[0m\u001b[0;34m.\u001b[0m\u001b[0m__getitems__\u001b[0m\u001b[0;34m(\u001b[0m\u001b[0mpossibly_batched_index\u001b[0m\u001b[0;34m)\u001b[0m\u001b[0;34m\u001b[0m\u001b[0;34m\u001b[0m\u001b[0m\n\u001b[1;32m     57\u001b[0m             \u001b[0;32melse\u001b[0m\u001b[0;34m:\u001b[0m\u001b[0;34m\u001b[0m\u001b[0;34m\u001b[0m\u001b[0m\n\u001b[0;32m---> 58\u001b[0;31m                 \u001b[0mdata\u001b[0m \u001b[0;34m=\u001b[0m \u001b[0;34m[\u001b[0m\u001b[0mself\u001b[0m\u001b[0;34m.\u001b[0m\u001b[0mdataset\u001b[0m\u001b[0;34m[\u001b[0m\u001b[0midx\u001b[0m\u001b[0;34m]\u001b[0m \u001b[0;32mfor\u001b[0m \u001b[0midx\u001b[0m \u001b[0;32min\u001b[0m \u001b[0mpossibly_batched_index\u001b[0m\u001b[0;34m]\u001b[0m\u001b[0;34m\u001b[0m\u001b[0;34m\u001b[0m\u001b[0m\n\u001b[0m\u001b[1;32m     59\u001b[0m         \u001b[0;32melse\u001b[0m\u001b[0;34m:\u001b[0m\u001b[0;34m\u001b[0m\u001b[0;34m\u001b[0m\u001b[0m\n\u001b[1;32m     60\u001b[0m             \u001b[0mdata\u001b[0m \u001b[0;34m=\u001b[0m \u001b[0mself\u001b[0m\u001b[0;34m.\u001b[0m\u001b[0mdataset\u001b[0m\u001b[0;34m[\u001b[0m\u001b[0mpossibly_batched_index\u001b[0m\u001b[0;34m]\u001b[0m\u001b[0;34m\u001b[0m\u001b[0;34m\u001b[0m\u001b[0m\n",
      "\u001b[0;32m~/workspace/pytorch-pipeline-1/data_preprocessing_gpu/new_datasets.py\u001b[0m in \u001b[0;36m__getitem__\u001b[0;34m(self, index)\u001b[0m\n\u001b[1;32m    111\u001b[0m         \u001b[0maudio_sample_path\u001b[0m \u001b[0;34m=\u001b[0m \u001b[0mself\u001b[0m\u001b[0;34m.\u001b[0m\u001b[0m_get_audio_sample_path\u001b[0m\u001b[0;34m(\u001b[0m\u001b[0mindex\u001b[0m\u001b[0;34m)\u001b[0m\u001b[0;34m\u001b[0m\u001b[0;34m\u001b[0m\u001b[0m\n\u001b[1;32m    112\u001b[0m         \u001b[0;31m# label = self._get_audio_sample_label(index)\u001b[0m\u001b[0;34m\u001b[0m\u001b[0;34m\u001b[0m\u001b[0;34m\u001b[0m\u001b[0m\n\u001b[0;32m--> 113\u001b[0;31m         \u001b[0msignal\u001b[0m\u001b[0;34m,\u001b[0m \u001b[0msr\u001b[0m \u001b[0;34m=\u001b[0m \u001b[0mself\u001b[0m\u001b[0;34m.\u001b[0m\u001b[0maudio_loader\u001b[0m\u001b[0;34m(\u001b[0m\u001b[0maudio_path\u001b[0m \u001b[0;34m=\u001b[0m \u001b[0maudio_sample_path\u001b[0m\u001b[0;34m,\u001b[0m \u001b[0mconfig\u001b[0m \u001b[0;34m=\u001b[0m \u001b[0mself\u001b[0m\u001b[0;34m.\u001b[0m\u001b[0mconfig\u001b[0m\u001b[0;34m)\u001b[0m\u001b[0;34m\u001b[0m\u001b[0;34m\u001b[0m\u001b[0m\n\u001b[0m\u001b[1;32m    114\u001b[0m         \u001b[0msignal\u001b[0m \u001b[0;34m=\u001b[0m \u001b[0msignal\u001b[0m\u001b[0;34m.\u001b[0m\u001b[0mto\u001b[0m\u001b[0;34m(\u001b[0m\u001b[0mself\u001b[0m\u001b[0;34m.\u001b[0m\u001b[0mdevice\u001b[0m\u001b[0;34m)\u001b[0m\u001b[0;34m\u001b[0m\u001b[0;34m\u001b[0m\u001b[0m\n\u001b[1;32m    115\u001b[0m         \u001b[0;32mreturn\u001b[0m \u001b[0msignal\u001b[0m\u001b[0;34m\u001b[0m\u001b[0;34m\u001b[0m\u001b[0m\n",
      "\u001b[0;32m~/workspace/pytorch-pipeline-1/data_preprocessing_gpu/new_datasets.py\u001b[0m in \u001b[0;36mload_audio\u001b[0;34m(audio_path, config)\u001b[0m\n\u001b[1;32m    196\u001b[0m             \u001b[0msignal\u001b[0m \u001b[0;34m=\u001b[0m \u001b[0mtorchaudio\u001b[0m\u001b[0;34m.\u001b[0m\u001b[0mtransforms\u001b[0m\u001b[0;34m.\u001b[0m\u001b[0mAmplitudeToDB\u001b[0m\u001b[0;34m(\u001b[0m\u001b[0;34m)\u001b[0m\u001b[0;34m(\u001b[0m\u001b[0msignal\u001b[0m\u001b[0;34m)\u001b[0m\u001b[0;34m\u001b[0m\u001b[0;34m\u001b[0m\u001b[0m\n\u001b[1;32m    197\u001b[0m         \u001b[0;32melif\u001b[0m \u001b[0mtransform\u001b[0m\u001b[0;34m[\u001b[0m\u001b[0;34m'type'\u001b[0m\u001b[0;34m]\u001b[0m \u001b[0;34m==\u001b[0m \u001b[0;34m'TimeStretch'\u001b[0m\u001b[0;34m:\u001b[0m\u001b[0;34m\u001b[0m\u001b[0;34m\u001b[0m\u001b[0m\n\u001b[0;32m--> 198\u001b[0;31m             \u001b[0msignal\u001b[0m \u001b[0;34m=\u001b[0m \u001b[0mtorchaudio\u001b[0m\u001b[0;34m.\u001b[0m\u001b[0mtransforms\u001b[0m\u001b[0;34m.\u001b[0m\u001b[0mSpectrogram\u001b[0m\u001b[0;34m(\u001b[0m\u001b[0mn_fft\u001b[0m\u001b[0;34m=\u001b[0m\u001b[0mtransform\u001b[0m\u001b[0;34m[\u001b[0m\u001b[0;34m'n_fft'\u001b[0m\u001b[0;34m]\u001b[0m\u001b[0;34m,\u001b[0m \u001b[0mhop_length\u001b[0m\u001b[0;34m=\u001b[0m\u001b[0mtransform\u001b[0m\u001b[0;34m[\u001b[0m\u001b[0;34m'hop_length'\u001b[0m\u001b[0;34m]\u001b[0m\u001b[0;34m,\u001b[0m\u001b[0mwindow_fn\u001b[0m\u001b[0;34m=\u001b[0m\u001b[0mtransform\u001b[0m\u001b[0;34m[\u001b[0m\u001b[0;34m'window'\u001b[0m\u001b[0;34m]\u001b[0m\u001b[0;34m)\u001b[0m\u001b[0;34m(\u001b[0m\u001b[0msignal\u001b[0m\u001b[0;34m)\u001b[0m\u001b[0;34m\u001b[0m\u001b[0;34m\u001b[0m\u001b[0m\n\u001b[0m\u001b[1;32m    199\u001b[0m             \u001b[0msignal\u001b[0m \u001b[0;34m=\u001b[0m \u001b[0mtorchaudio\u001b[0m\u001b[0;34m.\u001b[0m\u001b[0mtransforms\u001b[0m\u001b[0;34m.\u001b[0m\u001b[0mTimeStretch\u001b[0m\u001b[0;34m(\u001b[0m\u001b[0mfixed_rate\u001b[0m\u001b[0;34m=\u001b[0m\u001b[0mtransform\u001b[0m\u001b[0;34m[\u001b[0m\u001b[0;34m'fixed_rate'\u001b[0m\u001b[0;34m]\u001b[0m\u001b[0;34m)\u001b[0m\u001b[0;34m(\u001b[0m\u001b[0msignal\u001b[0m\u001b[0;34m)\u001b[0m\u001b[0;34m\u001b[0m\u001b[0;34m\u001b[0m\u001b[0m\n\u001b[1;32m    200\u001b[0m         \u001b[0;32melif\u001b[0m \u001b[0mtransform\u001b[0m\u001b[0;34m[\u001b[0m\u001b[0;34m'type'\u001b[0m\u001b[0;34m]\u001b[0m \u001b[0;34m==\u001b[0m \u001b[0;34m'FrequencyMasking'\u001b[0m\u001b[0;34m:\u001b[0m\u001b[0;34m\u001b[0m\u001b[0;34m\u001b[0m\u001b[0m\n",
      "\u001b[0;32m/opt/conda/lib/python3.7/site-packages/torchaudio/transforms/_transforms.py\u001b[0m in \u001b[0;36m__init__\u001b[0;34m(self, n_fft, win_length, hop_length, pad, window_fn, power, normalized, wkwargs, center, pad_mode, onesided, return_complex)\u001b[0m\n\u001b[1;32m     81\u001b[0m         \u001b[0mself\u001b[0m\u001b[0;34m.\u001b[0m\u001b[0mwin_length\u001b[0m \u001b[0;34m=\u001b[0m \u001b[0mwin_length\u001b[0m \u001b[0;32mif\u001b[0m \u001b[0mwin_length\u001b[0m \u001b[0;32mis\u001b[0m \u001b[0;32mnot\u001b[0m \u001b[0;32mNone\u001b[0m \u001b[0;32melse\u001b[0m \u001b[0mn_fft\u001b[0m\u001b[0;34m\u001b[0m\u001b[0;34m\u001b[0m\u001b[0m\n\u001b[1;32m     82\u001b[0m         \u001b[0mself\u001b[0m\u001b[0;34m.\u001b[0m\u001b[0mhop_length\u001b[0m \u001b[0;34m=\u001b[0m \u001b[0mhop_length\u001b[0m \u001b[0;32mif\u001b[0m \u001b[0mhop_length\u001b[0m \u001b[0;32mis\u001b[0m \u001b[0;32mnot\u001b[0m \u001b[0;32mNone\u001b[0m \u001b[0;32melse\u001b[0m \u001b[0mself\u001b[0m\u001b[0;34m.\u001b[0m\u001b[0mwin_length\u001b[0m \u001b[0;34m//\u001b[0m \u001b[0;36m2\u001b[0m\u001b[0;34m\u001b[0m\u001b[0;34m\u001b[0m\u001b[0m\n\u001b[0;32m---> 83\u001b[0;31m         \u001b[0mwindow\u001b[0m \u001b[0;34m=\u001b[0m \u001b[0mwindow_fn\u001b[0m\u001b[0;34m(\u001b[0m\u001b[0mself\u001b[0m\u001b[0;34m.\u001b[0m\u001b[0mwin_length\u001b[0m\u001b[0;34m)\u001b[0m \u001b[0;32mif\u001b[0m \u001b[0mwkwargs\u001b[0m \u001b[0;32mis\u001b[0m \u001b[0;32mNone\u001b[0m \u001b[0;32melse\u001b[0m \u001b[0mwindow_fn\u001b[0m\u001b[0;34m(\u001b[0m\u001b[0mself\u001b[0m\u001b[0;34m.\u001b[0m\u001b[0mwin_length\u001b[0m\u001b[0;34m,\u001b[0m \u001b[0;34m**\u001b[0m\u001b[0mwkwargs\u001b[0m\u001b[0;34m)\u001b[0m\u001b[0;34m\u001b[0m\u001b[0;34m\u001b[0m\u001b[0m\n\u001b[0m\u001b[1;32m     84\u001b[0m         \u001b[0mself\u001b[0m\u001b[0;34m.\u001b[0m\u001b[0mregister_buffer\u001b[0m\u001b[0;34m(\u001b[0m\u001b[0;34m\"window\"\u001b[0m\u001b[0;34m,\u001b[0m \u001b[0mwindow\u001b[0m\u001b[0;34m)\u001b[0m\u001b[0;34m\u001b[0m\u001b[0;34m\u001b[0m\u001b[0m\n\u001b[1;32m     85\u001b[0m         \u001b[0mself\u001b[0m\u001b[0;34m.\u001b[0m\u001b[0mpad\u001b[0m \u001b[0;34m=\u001b[0m \u001b[0mpad\u001b[0m\u001b[0;34m\u001b[0m\u001b[0;34m\u001b[0m\u001b[0m\n",
      "\u001b[0;31mTypeError\u001b[0m: 'str' object is not callable"
     ]
    }
   ],
   "source": [
    "from torch.utils.data import Dataset\n",
    "import new_datasets\n",
    "import torch\n",
    "\n",
    "config = {'annotations_dir': '/root/workspace/dataset_2022/metadata_dev/dev-test-sony',\n",
    "'audio_dir': '/root/workspace/dataset_2022/mic_dev/dev-test-sony',\n",
    "'preprocessed_data_dir' : '/root/workspace/dataset_2022/mic_dev/preprocessed_dir',\n",
    "'sample_rate': 22050,'num_samples': 22050,\n",
    "'transforms': [{'type': 'TimeStretch','fixed_rate':1.5,'n_fft': 1024,'hop_length': 512,'window': 'hann'}]}\n",
    "device = torch.device(\"cuda\" if torch.cuda.is_available() else \"cpu\")\n",
    "print(f\"Using device {device}\")\n",
    "\n",
    "# create the dataset\n",
    "dataset = new_datasets.Audio_preprocess_dataset(config=config, annotation_loader_with_indexes=new_datasets.load_annotations_with_indexes, \n",
    "audio_loader=new_datasets.load_audio, device=device)\n",
    "\n",
    "# # preprocess and save the audio data\n",
    "batch_size = 1\n",
    "num_workers = 0\n",
    "save_as_tensor = True\n",
    "dataset.preprocess_and_save(batch_size, num_workers, save_as_tensor)"
   ]
  },
  {
   "cell_type": "code",
   "execution_count": null,
   "metadata": {},
   "outputs": [],
   "source": [
    "tens = torch.load('/root/workspace/dataset_2022/mic_dev/preprocessed_dir/processed_fold4_room23_mix001')\n",
    "\n",
    "S = tens.cpu().numpy()"
   ]
  },
  {
   "cell_type": "code",
   "execution_count": null,
   "metadata": {},
   "outputs": [],
   "source": [
    "import torchaudio\n",
    "\n",
    "audio, sr = torchaudio.load('/root/workspace/dataset_2022/mic_dev/dev-test-sony/fold4_room23_mix001.wav')\n",
    "\n",
    "S2 =  torchaudio.transforms.TimeStretch(rate=config['transforms'][0]['rate'])(audio)\n",
    "# Compute the decibel transform\n",
    "S2 = S2.cpu().numpy()"
   ]
  },
  {
   "cell_type": "code",
   "execution_count": null,
   "metadata": {},
   "outputs": [],
   "source": [
    "import numpy as np\n",
    "\n",
    "np.linalg.norm(S-S2)"
   ]
  },
  {
   "attachments": {},
   "cell_type": "markdown",
   "metadata": {},
   "source": [
    "### Test frequency masking"
   ]
  },
  {
   "cell_type": "code",
   "execution_count": 1,
   "metadata": {},
   "outputs": [],
   "source": [
    "!rm -R /root/workspace/dataset_2022/mic_dev/preprocessed_dir"
   ]
  },
  {
   "cell_type": "code",
   "execution_count": 1,
   "metadata": {},
   "outputs": [
    {
     "name": "stdout",
     "output_type": "stream",
     "text": [
      "Using device cuda\n",
      "0\n",
      "1\n",
      "2\n",
      "3\n",
      "4\n",
      "5\n",
      "6\n",
      "7\n",
      "8\n",
      "9\n",
      "10\n",
      "11\n",
      "12\n",
      "13\n",
      "14\n",
      "15\n",
      "16\n",
      "17\n",
      "18\n",
      "19\n",
      "20\n",
      "21\n",
      "22\n",
      "23\n",
      "24\n",
      "25\n",
      "26\n",
      "27\n",
      "28\n",
      "29\n"
     ]
    }
   ],
   "source": [
    "from torch.utils.data import Dataset\n",
    "import new_datasets\n",
    "import torch\n",
    "\n",
    "config = {'annotations_dir': '/root/workspace/dataset_2022/metadata_dev/dev-test-sony',\n",
    "'audio_dir': '/root/workspace/dataset_2022/mic_dev/dev-test-sony',\n",
    "'preprocessed_data_dir' : '/root/workspace/dataset_2022/mic_dev/preprocessed_dir',\n",
    "'sample_rate': 22050,'num_samples': 22050,\n",
    "'transforms': [{'type': 'FrequencyMasking','freq_mask_param':1,'n_fft': 1024,'hop_length': 512,'window': 'hann'}]}\n",
    "device = torch.device(\"cuda\" if torch.cuda.is_available() else \"cpu\")\n",
    "print(f\"Using device {device}\")\n",
    "\n",
    "# create the dataset\n",
    "dataset = new_datasets.Audio_preprocess_dataset(config=config, annotation_loader_with_indexes=new_datasets.load_annotations_with_indexes, \n",
    "audio_loader=new_datasets.load_audio, device=device)\n",
    "\n",
    "# # preprocess and save the audio data\n",
    "batch_size = 1\n",
    "num_workers = 0\n",
    "save_as_tensor = True\n",
    "dataset.preprocess_and_save(batch_size, num_workers, save_as_tensor)"
   ]
  },
  {
   "cell_type": "code",
   "execution_count": 2,
   "metadata": {},
   "outputs": [],
   "source": [
    "tens = torch.load('/root/workspace/dataset_2022/mic_dev/preprocessed_dir/processed_fold4_room23_mix001')\n",
    "\n",
    "S = tens.cpu().numpy()"
   ]
  },
  {
   "cell_type": "code",
   "execution_count": 4,
   "metadata": {},
   "outputs": [],
   "source": [
    "import torchaudio\n",
    "\n",
    "audio, sr = torchaudio.load('/root/workspace/dataset_2022/mic_dev/dev-test-sony/fold4_room23_mix001.wav')\n",
    "\n",
    "S2 = torchaudio.transforms.Spectrogram(n_fft=config['transforms'][0]['n_fft'], hop_length=config['transforms'][0]['hop_length'],window_fn=torch.hann_window)(audio)\n",
    "S2 = torchaudio.transforms.FrequencyMasking(freq_mask_param=config['transforms'][0]['freq_mask_param'])(S2)\n",
    "# Compute the decibel transform\n",
    "S2 = S2.cpu().numpy()"
   ]
  },
  {
   "cell_type": "code",
   "execution_count": 5,
   "metadata": {},
   "outputs": [
    {
     "data": {
      "text/plain": [
       "0.0"
      ]
     },
     "execution_count": 5,
     "metadata": {},
     "output_type": "execute_result"
    }
   ],
   "source": [
    "import numpy as np\n",
    "\n",
    "np.linalg.norm(S-S2)"
   ]
  },
  {
   "attachments": {},
   "cell_type": "markdown",
   "metadata": {},
   "source": [
    "### Test Time masking"
   ]
  },
  {
   "cell_type": "code",
   "execution_count": null,
   "metadata": {},
   "outputs": [],
   "source": [
    "!rm -R /root/workspace/dataset_2022/mic_dev/preprocessed_dir"
   ]
  },
  {
   "cell_type": "code",
   "execution_count": 7,
   "metadata": {},
   "outputs": [
    {
     "name": "stdout",
     "output_type": "stream",
     "text": [
      "Using device cuda\n",
      "0\n",
      "1\n",
      "2\n",
      "3\n",
      "4\n",
      "5\n",
      "6\n",
      "7\n",
      "8\n",
      "9\n",
      "10\n",
      "11\n",
      "12\n",
      "13\n",
      "14\n",
      "15\n",
      "16\n",
      "17\n",
      "18\n",
      "19\n",
      "20\n",
      "21\n",
      "22\n",
      "23\n",
      "24\n",
      "25\n",
      "26\n",
      "27\n",
      "28\n",
      "29\n"
     ]
    }
   ],
   "source": [
    "from torch.utils.data import Dataset\n",
    "import new_datasets\n",
    "\n",
    "config = {'annotations_dir': '/root/workspace/dataset_2022/metadata_dev/dev-test-sony',\n",
    "'audio_dir': '/root/workspace/dataset_2022/mic_dev/dev-test-sony',\n",
    "'preprocessed_data_dir' : '/root/workspace/dataset_2022/mic_dev/preprocessed_dir',\n",
    "'sample_rate': 22050,'num_samples': 22050,\n",
    "'transforms': [{'type': 'TimeMasking','time_mask_param':1,'n_fft': 1024,'hop_length': 512,'window': 'hann'}]}\n",
    "device = torch.device(\"cuda\" if torch.cuda.is_available() else \"cpu\")\n",
    "print(f\"Using device {device}\")\n",
    "\n",
    "# create the dataset\n",
    "dataset = new_datasets.Audio_preprocess_dataset(config=config, annotation_loader_with_indexes=new_datasets.load_annotations_with_indexes, \n",
    "audio_loader=new_datasets.load_audio, device=device)\n",
    "\n",
    "# # preprocess and save the audio data\n",
    "batch_size = 1\n",
    "num_workers = 0\n",
    "save_as_tensor = True\n",
    "dataset.preprocess_and_save(batch_size, num_workers, save_as_tensor)"
   ]
  },
  {
   "cell_type": "code",
   "execution_count": 8,
   "metadata": {},
   "outputs": [],
   "source": [
    "tens = torch.load('/root/workspace/dataset_2022/mic_dev/preprocessed_dir/processed_fold4_room23_mix001')\n",
    "\n",
    "S = tens.cpu().numpy()"
   ]
  },
  {
   "cell_type": "code",
   "execution_count": 9,
   "metadata": {},
   "outputs": [
    {
     "ename": "IndexError",
     "evalue": "tuple index out of range",
     "output_type": "error",
     "traceback": [
      "\u001b[0;31m---------------------------------------------------------------------------\u001b[0m",
      "\u001b[0;31mIndexError\u001b[0m                                Traceback (most recent call last)",
      "\u001b[0;32m<ipython-input-9-0a25244d9f67>\u001b[0m in \u001b[0;36m<module>\u001b[0;34m\u001b[0m\n\u001b[1;32m      4\u001b[0m \u001b[0;34m\u001b[0m\u001b[0m\n\u001b[1;32m      5\u001b[0m \u001b[0mS2\u001b[0m \u001b[0;34m=\u001b[0m \u001b[0mtorchaudio\u001b[0m\u001b[0;34m.\u001b[0m\u001b[0mtransforms\u001b[0m\u001b[0;34m.\u001b[0m\u001b[0mSpectrogram\u001b[0m\u001b[0;34m(\u001b[0m\u001b[0mn_fft\u001b[0m\u001b[0;34m=\u001b[0m\u001b[0mconfig\u001b[0m\u001b[0;34m[\u001b[0m\u001b[0;34m'transforms'\u001b[0m\u001b[0;34m]\u001b[0m\u001b[0;34m[\u001b[0m\u001b[0;36m0\u001b[0m\u001b[0;34m]\u001b[0m\u001b[0;34m[\u001b[0m\u001b[0;34m'n_fft'\u001b[0m\u001b[0;34m]\u001b[0m\u001b[0;34m,\u001b[0m \u001b[0mhop_length\u001b[0m\u001b[0;34m=\u001b[0m\u001b[0mconfig\u001b[0m\u001b[0;34m[\u001b[0m\u001b[0;34m'transforms'\u001b[0m\u001b[0;34m]\u001b[0m\u001b[0;34m[\u001b[0m\u001b[0;36m0\u001b[0m\u001b[0;34m]\u001b[0m\u001b[0;34m[\u001b[0m\u001b[0;34m'hop_length'\u001b[0m\u001b[0;34m]\u001b[0m\u001b[0;34m,\u001b[0m\u001b[0mwindow_fn\u001b[0m\u001b[0;34m=\u001b[0m\u001b[0mtorch\u001b[0m\u001b[0;34m.\u001b[0m\u001b[0mhann_window\u001b[0m\u001b[0;34m)\u001b[0m\u001b[0;34m(\u001b[0m\u001b[0maudio\u001b[0m\u001b[0;34m)\u001b[0m\u001b[0;34m\u001b[0m\u001b[0;34m\u001b[0m\u001b[0m\n\u001b[0;32m----> 6\u001b[0;31m \u001b[0mS2\u001b[0m \u001b[0;34m=\u001b[0m \u001b[0mtorchaudio\u001b[0m\u001b[0;34m.\u001b[0m\u001b[0mtransforms\u001b[0m\u001b[0;34m.\u001b[0m\u001b[0mTimeMasking\u001b[0m\u001b[0;34m(\u001b[0m\u001b[0mtime_mask_param\u001b[0m\u001b[0;34m=\u001b[0m\u001b[0mconfig\u001b[0m\u001b[0;34m[\u001b[0m\u001b[0;34m'transforms'\u001b[0m\u001b[0;34m]\u001b[0m\u001b[0;34m[\u001b[0m\u001b[0;36m0\u001b[0m\u001b[0;34m]\u001b[0m\u001b[0;34m[\u001b[0m\u001b[0;34m'time_mask_param'\u001b[0m\u001b[0;34m]\u001b[0m\u001b[0;34m)\u001b[0m\u001b[0;34m(\u001b[0m\u001b[0maudio\u001b[0m\u001b[0;34m)\u001b[0m\u001b[0;34m\u001b[0m\u001b[0;34m\u001b[0m\u001b[0m\n\u001b[0m\u001b[1;32m      7\u001b[0m \u001b[0;31m# Compute the decibel transform\u001b[0m\u001b[0;34m\u001b[0m\u001b[0;34m\u001b[0m\u001b[0;34m\u001b[0m\u001b[0m\n\u001b[1;32m      8\u001b[0m \u001b[0mS2\u001b[0m \u001b[0;34m=\u001b[0m \u001b[0mS2\u001b[0m\u001b[0;34m.\u001b[0m\u001b[0mcpu\u001b[0m\u001b[0;34m(\u001b[0m\u001b[0;34m)\u001b[0m\u001b[0;34m.\u001b[0m\u001b[0mnumpy\u001b[0m\u001b[0;34m(\u001b[0m\u001b[0;34m)\u001b[0m\u001b[0;34m\u001b[0m\u001b[0;34m\u001b[0m\u001b[0m\n",
      "\u001b[0;32m/opt/conda/lib/python3.7/site-packages/torch/nn/modules/module.py\u001b[0m in \u001b[0;36m_call_impl\u001b[0;34m(self, *input, **kwargs)\u001b[0m\n\u001b[1;32m   1192\u001b[0m         if not (self._backward_hooks or self._forward_hooks or self._forward_pre_hooks or _global_backward_hooks\n\u001b[1;32m   1193\u001b[0m                 or _global_forward_hooks or _global_forward_pre_hooks):\n\u001b[0;32m-> 1194\u001b[0;31m             \u001b[0;32mreturn\u001b[0m \u001b[0mforward_call\u001b[0m\u001b[0;34m(\u001b[0m\u001b[0;34m*\u001b[0m\u001b[0minput\u001b[0m\u001b[0;34m,\u001b[0m \u001b[0;34m**\u001b[0m\u001b[0mkwargs\u001b[0m\u001b[0;34m)\u001b[0m\u001b[0;34m\u001b[0m\u001b[0;34m\u001b[0m\u001b[0m\n\u001b[0m\u001b[1;32m   1195\u001b[0m         \u001b[0;31m# Do not call functions when jit is used\u001b[0m\u001b[0;34m\u001b[0m\u001b[0;34m\u001b[0m\u001b[0;34m\u001b[0m\u001b[0m\n\u001b[1;32m   1196\u001b[0m         \u001b[0mfull_backward_hooks\u001b[0m\u001b[0;34m,\u001b[0m \u001b[0mnon_full_backward_hooks\u001b[0m \u001b[0;34m=\u001b[0m \u001b[0;34m[\u001b[0m\u001b[0;34m]\u001b[0m\u001b[0;34m,\u001b[0m \u001b[0;34m[\u001b[0m\u001b[0;34m]\u001b[0m\u001b[0;34m\u001b[0m\u001b[0;34m\u001b[0m\u001b[0m\n",
      "\u001b[0;32m/opt/conda/lib/python3.7/site-packages/torchaudio/transforms/_transforms.py\u001b[0m in \u001b[0;36mforward\u001b[0;34m(self, specgram, mask_value)\u001b[0m\n\u001b[1;32m   1217\u001b[0m             \u001b[0;32mreturn\u001b[0m \u001b[0mF\u001b[0m\u001b[0;34m.\u001b[0m\u001b[0mmask_along_axis_iid\u001b[0m\u001b[0;34m(\u001b[0m\u001b[0mspecgram\u001b[0m\u001b[0;34m,\u001b[0m \u001b[0mself\u001b[0m\u001b[0;34m.\u001b[0m\u001b[0mmask_param\u001b[0m\u001b[0;34m,\u001b[0m \u001b[0mmask_value\u001b[0m\u001b[0;34m,\u001b[0m \u001b[0mself\u001b[0m\u001b[0;34m.\u001b[0m\u001b[0maxis\u001b[0m \u001b[0;34m+\u001b[0m \u001b[0;36m1\u001b[0m\u001b[0;34m,\u001b[0m \u001b[0mp\u001b[0m\u001b[0;34m=\u001b[0m\u001b[0mself\u001b[0m\u001b[0;34m.\u001b[0m\u001b[0mp\u001b[0m\u001b[0;34m)\u001b[0m\u001b[0;34m\u001b[0m\u001b[0;34m\u001b[0m\u001b[0m\n\u001b[1;32m   1218\u001b[0m         \u001b[0;32melse\u001b[0m\u001b[0;34m:\u001b[0m\u001b[0;34m\u001b[0m\u001b[0;34m\u001b[0m\u001b[0m\n\u001b[0;32m-> 1219\u001b[0;31m             \u001b[0;32mreturn\u001b[0m \u001b[0mF\u001b[0m\u001b[0;34m.\u001b[0m\u001b[0mmask_along_axis\u001b[0m\u001b[0;34m(\u001b[0m\u001b[0mspecgram\u001b[0m\u001b[0;34m,\u001b[0m \u001b[0mself\u001b[0m\u001b[0;34m.\u001b[0m\u001b[0mmask_param\u001b[0m\u001b[0;34m,\u001b[0m \u001b[0mmask_value\u001b[0m\u001b[0;34m,\u001b[0m \u001b[0mself\u001b[0m\u001b[0;34m.\u001b[0m\u001b[0maxis\u001b[0m\u001b[0;34m,\u001b[0m \u001b[0mp\u001b[0m\u001b[0;34m=\u001b[0m\u001b[0mself\u001b[0m\u001b[0;34m.\u001b[0m\u001b[0mp\u001b[0m\u001b[0;34m)\u001b[0m\u001b[0;34m\u001b[0m\u001b[0;34m\u001b[0m\u001b[0m\n\u001b[0m\u001b[1;32m   1220\u001b[0m \u001b[0;34m\u001b[0m\u001b[0m\n\u001b[1;32m   1221\u001b[0m \u001b[0;34m\u001b[0m\u001b[0m\n",
      "\u001b[0;32m/opt/conda/lib/python3.7/site-packages/torchaudio/functional/functional.py\u001b[0m in \u001b[0;36mmask_along_axis\u001b[0;34m(specgram, mask_param, mask_value, axis, p)\u001b[0m\n\u001b[1;32m    897\u001b[0m         \u001b[0;32mraise\u001b[0m \u001b[0mValueError\u001b[0m\u001b[0;34m(\u001b[0m\u001b[0;34mf\"The value of p must be between 0.0 and 1.0 ({p} given).\"\u001b[0m\u001b[0;34m)\u001b[0m\u001b[0;34m\u001b[0m\u001b[0;34m\u001b[0m\u001b[0m\n\u001b[1;32m    898\u001b[0m \u001b[0;34m\u001b[0m\u001b[0m\n\u001b[0;32m--> 899\u001b[0;31m     \u001b[0mmask_param\u001b[0m \u001b[0;34m=\u001b[0m \u001b[0m_get_mask_param\u001b[0m\u001b[0;34m(\u001b[0m\u001b[0mmask_param\u001b[0m\u001b[0;34m,\u001b[0m \u001b[0mp\u001b[0m\u001b[0;34m,\u001b[0m \u001b[0mspecgram\u001b[0m\u001b[0;34m.\u001b[0m\u001b[0mshape\u001b[0m\u001b[0;34m[\u001b[0m\u001b[0maxis\u001b[0m\u001b[0;34m]\u001b[0m\u001b[0;34m)\u001b[0m\u001b[0;34m\u001b[0m\u001b[0;34m\u001b[0m\u001b[0m\n\u001b[0m\u001b[1;32m    900\u001b[0m     \u001b[0;32mif\u001b[0m \u001b[0mmask_param\u001b[0m \u001b[0;34m<\u001b[0m \u001b[0;36m1\u001b[0m\u001b[0;34m:\u001b[0m\u001b[0;34m\u001b[0m\u001b[0;34m\u001b[0m\u001b[0m\n\u001b[1;32m    901\u001b[0m         \u001b[0;32mreturn\u001b[0m \u001b[0mspecgram\u001b[0m\u001b[0;34m\u001b[0m\u001b[0;34m\u001b[0m\u001b[0m\n",
      "\u001b[0;31mIndexError\u001b[0m: tuple index out of range"
     ]
    }
   ],
   "source": [
    "import torchaudio\n",
    "\n",
    "audio, sr = torchaudio.load('/root/workspace/dataset_2022/mic_dev/dev-test-sony/fold4_room23_mix001.wav')\n",
    "\n",
    "S2 = torchaudio.transforms.Spectrogram(n_fft=config['transforms'][0]['n_fft'], hop_length=config['transforms'][0]['hop_length'],window_fn=torch.hann_window)(audio)\n",
    "S2 = torchaudio.transforms.TimeMasking(time_mask_param=config['transforms'][0]['time_mask_param'])(audio)\n",
    "# Compute the decibel transform\n",
    "S2 = S2.cpu().numpy()"
   ]
  },
  {
   "cell_type": "code",
   "execution_count": null,
   "metadata": {},
   "outputs": [],
   "source": [
    "import numpy as np\n",
    "\n",
    "np.linalg.norm(S-S2)"
   ]
  },
  {
   "attachments": {},
   "cell_type": "markdown",
   "metadata": {},
   "source": [
    "### Test SALSA"
   ]
  },
  {
   "cell_type": "code",
   "execution_count": null,
   "metadata": {},
   "outputs": [],
   "source": [
    "!rm -R /root/workspace/dataset_2022/mic_dev/preprocessed_dir"
   ]
  },
  {
   "cell_type": "code",
   "execution_count": null,
   "metadata": {},
   "outputs": [],
   "source": [
    "from torch.utils.data import Dataset\n",
    "import new_datasets\n",
    "\n",
    "config = {'annotations_dir': '/root/workspace/dataset_2022/metadata_dev/dev-test-sony',\n",
    "'audio_dir': '/root/workspace/dataset_2022/mic_dev/dev-test-sony',\n",
    "'preprocessed_data_dir' : '/root/workspace/dataset_2022/mic_dev/preprocessed_dir',\n",
    "'sample_rate': 22050,'num_samples': 22050,\n",
    "'transforms': [{'type': 'SALSA','n_fft':1024, 'hop_length':512, 'itd':True, 'icld':True}]}\n",
    "device = torch.device(\"cuda\" if torch.cuda.is_available() else \"cpu\")\n",
    "print(f\"Using device {device}\")\n",
    "\n",
    "# create the dataset\n",
    "dataset = new_datasets.Audio_preprocess_dataset(config=config, annotation_loader_with_indexes=new_datasets.load_annotations_with_indexes, \n",
    "audio_loader=new_datasets.load_audio, device=device)\n",
    "\n",
    "# # preprocess and save the audio data\n",
    "batch_size = 1\n",
    "num_workers = 0\n",
    "save_as_tensor = True\n",
    "dataset.preprocess_and_save(batch_size, num_workers, save_as_tensor)"
   ]
  },
  {
   "cell_type": "code",
   "execution_count": null,
   "metadata": {},
   "outputs": [],
   "source": [
    "tens = torch.load('/root/workspace/dataset_2022/mic_dev/preprocessed_dir/processed_fold4_room23_mix001')\n",
    "\n",
    "S = tens.cpu().numpy()"
   ]
  },
  {
   "cell_type": "code",
   "execution_count": null,
   "metadata": {},
   "outputs": [],
   "source": [
    "import torchaudio\n",
    "\n",
    "audio, sr = torchaudio.load('/root/workspace/dataset_2022/mic_dev/dev-test-sony/fold4_room23_mix001.wav')\n",
    "\n",
    "S2 = torchaudio.transforms.AmplitudeToDB()(audio)\n",
    "# Compute the decibel transform\n",
    "S2 = S2.cpu().numpy()"
   ]
  },
  {
   "cell_type": "code",
   "execution_count": null,
   "metadata": {},
   "outputs": [],
   "source": [
    "import numpy as np\n",
    "\n",
    "np.linalg.norm(S-S2)"
   ]
  },
  {
   "attachments": {},
   "cell_type": "markdown",
   "metadata": {},
   "source": [
    "### Test SALSA-Lite"
   ]
  },
  {
   "cell_type": "code",
   "execution_count": null,
   "metadata": {},
   "outputs": [],
   "source": [
    "!rm -R /root/workspace/dataset_2022/mic_dev/preprocessed_dir"
   ]
  },
  {
   "cell_type": "code",
   "execution_count": null,
   "metadata": {},
   "outputs": [],
   "source": [
    "from torch.utils.data import Dataset\n",
    "import new_datasets\n",
    "\n",
    "config = {'annotations_dir': '/root/workspace/dataset_2022/metadata_dev/dev-test-sony',\n",
    "'audio_dir': '/root/workspace/dataset_2022/mic_dev/dev-test-sony',\n",
    "'preprocessed_data_dir' : '/root/workspace/dataset_2022/mic_dev/preprocessed_dir',\n",
    "'sample_rate': 22050,'num_samples': 22050,\n",
    "'transforms': [{'type': 'SALSA_LITE','n_fft':1024, 'hop_length':512, 'itd':True, 'icld':True,'window':'hann'}]}\n",
    "device = torch.device(\"cuda\" if torch.cuda.is_available() else \"cpu\")\n",
    "print(f\"Using device {device}\")\n",
    "\n",
    "# create the dataset\n",
    "dataset = new_datasets.Audio_preprocess_dataset(config=config, annotation_loader_with_indexes=new_datasets.load_annotations_with_indexes, \n",
    "audio_loader=new_datasets.load_audio, device=device)\n",
    "\n",
    "# # preprocess and save the audio data\n",
    "batch_size = 1\n",
    "num_workers = 0\n",
    "save_as_tensor = True\n",
    "dataset.preprocess_and_save(batch_size, num_workers, save_as_tensor)"
   ]
  },
  {
   "cell_type": "code",
   "execution_count": null,
   "metadata": {},
   "outputs": [],
   "source": [
    "tens = torch.load('/root/workspace/dataset_2022/mic_dev/preprocessed_dir/processed_fold4_room23_mix001')\n",
    "\n",
    "S = tens.cpu().numpy()"
   ]
  },
  {
   "cell_type": "code",
   "execution_count": null,
   "metadata": {},
   "outputs": [],
   "source": [
    "import torchaudio\n",
    "\n",
    "audio, sr = torchaudio.load('/root/workspace/dataset_2022/mic_dev/dev-test-sony/fold4_room23_mix001.wav')\n",
    "\n",
    "S2 = torchaudio.transforms.AmplitudeToDB()(audio)\n",
    "# Compute the decibel transform\n",
    "S2 = S2.cpu().numpy()"
   ]
  },
  {
   "cell_type": "code",
   "execution_count": null,
   "metadata": {},
   "outputs": [],
   "source": [
    "import numpy as np\n",
    "\n",
    "np.linalg.norm(S-S2)"
   ]
  },
  {
   "attachments": {},
   "cell_type": "markdown",
   "metadata": {},
   "source": [
    "### Test GCC-PHAT"
   ]
  },
  {
   "cell_type": "code",
   "execution_count": null,
   "metadata": {},
   "outputs": [],
   "source": [
    "!rm -R /root/workspace/dataset_2022/mic_dev/preprocessed_dir"
   ]
  },
  {
   "cell_type": "code",
   "execution_count": null,
   "metadata": {},
   "outputs": [],
   "source": [
    "from torch.utils.data import Dataset\n",
    "import new_datasets\n",
    "\n",
    "config = {'annotations_dir': '/root/workspace/dataset_2022/metadata_dev/dev-test-sony',\n",
    "'audio_dir': '/root/workspace/dataset_2022/mic_dev/dev-test-sony',\n",
    "'preprocessed_data_dir' : '/root/workspace/dataset_2022/mic_dev/preprocessed_dir',\n",
    "'sample_rate': 22050,'num_samples': 22050,\n",
    "'transforms': [{'type': 'GCC-PHAT','n_fft':1024, 'hop_length':512, 'window':'hann'}]}\n",
    "device = torch.device(\"cuda\" if torch.cuda.is_available() else \"cpu\")\n",
    "print(f\"Using device {device}\")\n",
    "\n",
    "# create the dataset\n",
    "dataset = new_datasets.Audio_preprocess_dataset(config=config, annotation_loader_with_indexes=new_datasets.load_annotations_with_indexes, \n",
    "audio_loader=new_datasets.load_audio, device=device)\n",
    "\n",
    "# # preprocess and save the audio data\n",
    "batch_size = 1\n",
    "num_workers = 0\n",
    "save_as_tensor = True\n",
    "dataset.preprocess_and_save(batch_size, num_workers, save_as_tensor)"
   ]
  },
  {
   "cell_type": "code",
   "execution_count": null,
   "metadata": {},
   "outputs": [],
   "source": [
    "tens = torch.load('/root/workspace/dataset_2022/mic_dev/preprocessed_dir/processed_fold4_room23_mix001')\n",
    "\n",
    "S = tens.cpu().numpy()"
   ]
  },
  {
   "cell_type": "code",
   "execution_count": null,
   "metadata": {},
   "outputs": [],
   "source": [
    "import torchaudio\n",
    "\n",
    "audio, sr = torchaudio.load('/root/workspace/dataset_2022/mic_dev/dev-test-sony/fold4_room23_mix001.wav')\n",
    "\n",
    "S2 = torchaudio.transforms.AmplitudeToDB()(audio)\n",
    "# Compute the decibel transform\n",
    "S2 = S2.cpu().numpy()"
   ]
  },
  {
   "cell_type": "code",
   "execution_count": null,
   "metadata": {},
   "outputs": [],
   "source": [
    "import numpy as np\n",
    "\n",
    "np.linalg.norm(S-S2)"
   ]
  },
  {
   "attachments": {},
   "cell_type": "markdown",
   "metadata": {},
   "source": [
    "### Test PCEN"
   ]
  },
  {
   "cell_type": "code",
   "execution_count": null,
   "metadata": {},
   "outputs": [],
   "source": [
    "!rm -R /root/workspace/dataset_2022/mic_dev/preprocessed_dir"
   ]
  },
  {
   "cell_type": "code",
   "execution_count": null,
   "metadata": {},
   "outputs": [],
   "source": [
    "from torch.utils.data import Dataset\n",
    "import new_datasets\n",
    "\n",
    "config = {'annotations_dir': '/root/workspace/dataset_2022/metadata_dev/dev-test-sony',\n",
    "'audio_dir': '/root/workspace/dataset_2022/mic_dev/dev-test-sony',\n",
    "'preprocessed_data_dir' : '/root/workspace/dataset_2022/mic_dev/preprocessed_dir',\n",
    "'sample_rate': 22050,'num_samples': 22050,\n",
    "'transforms': [{'type': 'PCEN','n_fft':1024, 'hop_length':512, 'window':'hann','alpha':0.98,'delta':2,'r':0.5,'s':0.025,'epsilon':1e-8}]}\n",
    "\n",
    "device = torch.device(\"cuda\" if torch.cuda.is_available() else \"cpu\")\n",
    "print(f\"Using device {device}\")\n",
    "\n",
    "# create the dataset\n",
    "dataset = new_datasets.Audio_preprocess_dataset(config=config, annotation_loader_with_indexes=new_datasets.load_annotations_with_indexes, \n",
    "audio_loader=new_datasets.load_audio, device=device)\n",
    "\n",
    "# # preprocess and save the audio data\n",
    "batch_size = 1\n",
    "num_workers = 0\n",
    "save_as_tensor = True\n",
    "dataset.preprocess_and_save(batch_size, num_workers, save_as_tensor)"
   ]
  },
  {
   "cell_type": "code",
   "execution_count": null,
   "metadata": {},
   "outputs": [],
   "source": [
    "tens = torch.load('/root/workspace/dataset_2022/mic_dev/preprocessed_dir/processed_fold4_room23_mix001')\n",
    "\n",
    "S = tens.cpu().numpy()"
   ]
  },
  {
   "cell_type": "code",
   "execution_count": null,
   "metadata": {},
   "outputs": [],
   "source": [
    "import torchaudio\n",
    "\n",
    "audio, sr = torchaudio.load('/root/workspace/dataset_2022/mic_dev/dev-test-sony/fold4_room23_mix001.wav')\n",
    "\n",
    "S2 = torchaudio.transforms.AmplitudeToDB()(audio)\n",
    "# Compute the decibel transform\n",
    "S2 = S2.cpu().numpy()"
   ]
  },
  {
   "cell_type": "code",
   "execution_count": null,
   "metadata": {},
   "outputs": [],
   "source": [
    "import numpy as np\n",
    "\n",
    "np.linalg.norm(S-S2)"
   ]
  },
  {
   "cell_type": "code",
   "execution_count": 74,
   "metadata": {},
   "outputs": [
    {
     "name": "stderr",
     "output_type": "stream",
     "text": [
      "/opt/conda/lib/python3.7/site-packages/torch/functional.py:633: UserWarning: stft will soon require the return_complex parameter be given for real inputs, and will further require that return_complex=True in a future PyTorch release. (Triggered internally at ../aten/src/ATen/native/SpectralOps.cpp:801.)\n",
      "  normalized, onesided, return_complex)\n"
     ]
    },
    {
     "ename": "ValueError",
     "evalue": "too many values to unpack (expected 2)",
     "output_type": "error",
     "traceback": [
      "\u001b[0;31m---------------------------------------------------------------------------\u001b[0m",
      "\u001b[0;31mValueError\u001b[0m                                Traceback (most recent call last)",
      "\u001b[0;32m<ipython-input-74-516053290f49>\u001b[0m in \u001b[0;36m<module>\u001b[0;34m\u001b[0m\n\u001b[1;32m     12\u001b[0m \u001b[0;31m# Plot the spectrogram\u001b[0m\u001b[0;34m\u001b[0m\u001b[0;34m\u001b[0m\u001b[0;34m\u001b[0m\u001b[0m\n\u001b[1;32m     13\u001b[0m \u001b[0mplt\u001b[0m\u001b[0;34m.\u001b[0m\u001b[0mfigure\u001b[0m\u001b[0;34m(\u001b[0m\u001b[0mfigsize\u001b[0m\u001b[0;34m=\u001b[0m\u001b[0;34m(\u001b[0m\u001b[0;36m10\u001b[0m\u001b[0;34m,\u001b[0m \u001b[0;36m4\u001b[0m\u001b[0;34m)\u001b[0m\u001b[0;34m)\u001b[0m\u001b[0;34m\u001b[0m\u001b[0;34m\u001b[0m\u001b[0m\n\u001b[0;32m---> 14\u001b[0;31m \u001b[0mlibrosa\u001b[0m\u001b[0;34m.\u001b[0m\u001b[0mdisplay\u001b[0m\u001b[0;34m.\u001b[0m\u001b[0mspecshow\u001b[0m\u001b[0;34m(\u001b[0m\u001b[0mlibrosa\u001b[0m\u001b[0;34m.\u001b[0m\u001b[0mamplitude_to_db\u001b[0m\u001b[0;34m(\u001b[0m\u001b[0mS2\u001b[0m\u001b[0;34m[\u001b[0m\u001b[0;34m:\u001b[0m\u001b[0;34m,\u001b[0m\u001b[0;34m:\u001b[0m\u001b[0;36m44\u001b[0m\u001b[0;34m]\u001b[0m\u001b[0;34m,\u001b[0m \u001b[0mref\u001b[0m\u001b[0;34m=\u001b[0m\u001b[0mnp\u001b[0m\u001b[0;34m.\u001b[0m\u001b[0mmax\u001b[0m\u001b[0;34m)\u001b[0m\u001b[0;34m,\u001b[0m \u001b[0my_axis\u001b[0m\u001b[0;34m=\u001b[0m\u001b[0;34m'log'\u001b[0m\u001b[0;34m,\u001b[0m \u001b[0mx_axis\u001b[0m\u001b[0;34m=\u001b[0m\u001b[0;34m'time'\u001b[0m\u001b[0;34m)\u001b[0m\u001b[0;34m\u001b[0m\u001b[0;34m\u001b[0m\u001b[0m\n\u001b[0m\u001b[1;32m     15\u001b[0m \u001b[0mplt\u001b[0m\u001b[0;34m.\u001b[0m\u001b[0mtitle\u001b[0m\u001b[0;34m(\u001b[0m\u001b[0;34m'Spectrogram'\u001b[0m\u001b[0;34m)\u001b[0m\u001b[0;34m\u001b[0m\u001b[0;34m\u001b[0m\u001b[0m\n\u001b[1;32m     16\u001b[0m \u001b[0mplt\u001b[0m\u001b[0;34m.\u001b[0m\u001b[0mcolorbar\u001b[0m\u001b[0;34m(\u001b[0m\u001b[0mformat\u001b[0m\u001b[0;34m=\u001b[0m\u001b[0;34m'%+2.0f dB'\u001b[0m\u001b[0;34m)\u001b[0m\u001b[0;34m\u001b[0m\u001b[0;34m\u001b[0m\u001b[0m\n",
      "\u001b[0;32m/opt/conda/lib/python3.7/site-packages/librosa/util/decorators.py\u001b[0m in \u001b[0;36minner_f\u001b[0;34m(*args, **kwargs)\u001b[0m\n\u001b[1;32m     86\u001b[0m             \u001b[0mextra_args\u001b[0m \u001b[0;34m=\u001b[0m \u001b[0mlen\u001b[0m\u001b[0;34m(\u001b[0m\u001b[0margs\u001b[0m\u001b[0;34m)\u001b[0m \u001b[0;34m-\u001b[0m \u001b[0mlen\u001b[0m\u001b[0;34m(\u001b[0m\u001b[0mall_args\u001b[0m\u001b[0;34m)\u001b[0m\u001b[0;34m\u001b[0m\u001b[0;34m\u001b[0m\u001b[0m\n\u001b[1;32m     87\u001b[0m             \u001b[0;32mif\u001b[0m \u001b[0mextra_args\u001b[0m \u001b[0;34m<=\u001b[0m \u001b[0;36m0\u001b[0m\u001b[0;34m:\u001b[0m\u001b[0;34m\u001b[0m\u001b[0;34m\u001b[0m\u001b[0m\n\u001b[0;32m---> 88\u001b[0;31m                 \u001b[0;32mreturn\u001b[0m \u001b[0mf\u001b[0m\u001b[0;34m(\u001b[0m\u001b[0;34m*\u001b[0m\u001b[0margs\u001b[0m\u001b[0;34m,\u001b[0m \u001b[0;34m**\u001b[0m\u001b[0mkwargs\u001b[0m\u001b[0;34m)\u001b[0m\u001b[0;34m\u001b[0m\u001b[0;34m\u001b[0m\u001b[0m\n\u001b[0m\u001b[1;32m     89\u001b[0m \u001b[0;34m\u001b[0m\u001b[0m\n\u001b[1;32m     90\u001b[0m             \u001b[0;31m# extra_args > 0\u001b[0m\u001b[0;34m\u001b[0m\u001b[0;34m\u001b[0m\u001b[0;34m\u001b[0m\u001b[0m\n",
      "\u001b[0;32m/opt/conda/lib/python3.7/site-packages/librosa/display.py\u001b[0m in \u001b[0;36mspecshow\u001b[0;34m(data, x_coords, y_coords, x_axis, y_axis, sr, hop_length, n_fft, win_length, fmin, fmax, tuning, bins_per_octave, key, Sa, mela, thaat, auto_aspect, htk, unicode, ax, **kwargs)\u001b[0m\n\u001b[1;32m    877\u001b[0m     \u001b[0maxes\u001b[0m \u001b[0;34m=\u001b[0m \u001b[0m__check_axes\u001b[0m\u001b[0;34m(\u001b[0m\u001b[0max\u001b[0m\u001b[0;34m)\u001b[0m\u001b[0;34m\u001b[0m\u001b[0;34m\u001b[0m\u001b[0m\n\u001b[1;32m    878\u001b[0m \u001b[0;34m\u001b[0m\u001b[0m\n\u001b[0;32m--> 879\u001b[0;31m     \u001b[0mout\u001b[0m \u001b[0;34m=\u001b[0m \u001b[0maxes\u001b[0m\u001b[0;34m.\u001b[0m\u001b[0mpcolormesh\u001b[0m\u001b[0;34m(\u001b[0m\u001b[0mx_coords\u001b[0m\u001b[0;34m,\u001b[0m \u001b[0my_coords\u001b[0m\u001b[0;34m,\u001b[0m \u001b[0mdata\u001b[0m\u001b[0;34m,\u001b[0m \u001b[0;34m**\u001b[0m\u001b[0mkwargs\u001b[0m\u001b[0;34m)\u001b[0m\u001b[0;34m\u001b[0m\u001b[0;34m\u001b[0m\u001b[0m\n\u001b[0m\u001b[1;32m    880\u001b[0m \u001b[0;34m\u001b[0m\u001b[0m\n\u001b[1;32m    881\u001b[0m     \u001b[0m__set_current_image\u001b[0m\u001b[0;34m(\u001b[0m\u001b[0max\u001b[0m\u001b[0;34m,\u001b[0m \u001b[0mout\u001b[0m\u001b[0;34m)\u001b[0m\u001b[0;34m\u001b[0m\u001b[0;34m\u001b[0m\u001b[0m\n",
      "\u001b[0;32m/opt/conda/lib/python3.7/site-packages/matplotlib/__init__.py\u001b[0m in \u001b[0;36minner\u001b[0;34m(ax, data, *args, **kwargs)\u001b[0m\n\u001b[1;32m   1445\u001b[0m     \u001b[0;32mdef\u001b[0m \u001b[0minner\u001b[0m\u001b[0;34m(\u001b[0m\u001b[0max\u001b[0m\u001b[0;34m,\u001b[0m \u001b[0;34m*\u001b[0m\u001b[0margs\u001b[0m\u001b[0;34m,\u001b[0m \u001b[0mdata\u001b[0m\u001b[0;34m=\u001b[0m\u001b[0;32mNone\u001b[0m\u001b[0;34m,\u001b[0m \u001b[0;34m**\u001b[0m\u001b[0mkwargs\u001b[0m\u001b[0;34m)\u001b[0m\u001b[0;34m:\u001b[0m\u001b[0;34m\u001b[0m\u001b[0;34m\u001b[0m\u001b[0m\n\u001b[1;32m   1446\u001b[0m         \u001b[0;32mif\u001b[0m \u001b[0mdata\u001b[0m \u001b[0;32mis\u001b[0m \u001b[0;32mNone\u001b[0m\u001b[0;34m:\u001b[0m\u001b[0;34m\u001b[0m\u001b[0;34m\u001b[0m\u001b[0m\n\u001b[0;32m-> 1447\u001b[0;31m             \u001b[0;32mreturn\u001b[0m \u001b[0mfunc\u001b[0m\u001b[0;34m(\u001b[0m\u001b[0max\u001b[0m\u001b[0;34m,\u001b[0m \u001b[0;34m*\u001b[0m\u001b[0mmap\u001b[0m\u001b[0;34m(\u001b[0m\u001b[0msanitize_sequence\u001b[0m\u001b[0;34m,\u001b[0m \u001b[0margs\u001b[0m\u001b[0;34m)\u001b[0m\u001b[0;34m,\u001b[0m \u001b[0;34m**\u001b[0m\u001b[0mkwargs\u001b[0m\u001b[0;34m)\u001b[0m\u001b[0;34m\u001b[0m\u001b[0;34m\u001b[0m\u001b[0m\n\u001b[0m\u001b[1;32m   1448\u001b[0m \u001b[0;34m\u001b[0m\u001b[0m\n\u001b[1;32m   1449\u001b[0m         \u001b[0mbound\u001b[0m \u001b[0;34m=\u001b[0m \u001b[0mnew_sig\u001b[0m\u001b[0;34m.\u001b[0m\u001b[0mbind\u001b[0m\u001b[0;34m(\u001b[0m\u001b[0max\u001b[0m\u001b[0;34m,\u001b[0m \u001b[0;34m*\u001b[0m\u001b[0margs\u001b[0m\u001b[0;34m,\u001b[0m \u001b[0;34m**\u001b[0m\u001b[0mkwargs\u001b[0m\u001b[0;34m)\u001b[0m\u001b[0;34m\u001b[0m\u001b[0;34m\u001b[0m\u001b[0m\n",
      "\u001b[0;32m/opt/conda/lib/python3.7/site-packages/matplotlib/axes/_axes.py\u001b[0m in \u001b[0;36mpcolormesh\u001b[0;34m(self, alpha, norm, cmap, vmin, vmax, shading, antialiased, *args, **kwargs)\u001b[0m\n\u001b[1;32m   6091\u001b[0m \u001b[0;34m\u001b[0m\u001b[0m\n\u001b[1;32m   6092\u001b[0m         X, Y, C, shading = self._pcolorargs('pcolormesh', *args,\n\u001b[0;32m-> 6093\u001b[0;31m                                             shading=shading, kwargs=kwargs)\n\u001b[0m\u001b[1;32m   6094\u001b[0m         \u001b[0mNy\u001b[0m\u001b[0;34m,\u001b[0m \u001b[0mNx\u001b[0m \u001b[0;34m=\u001b[0m \u001b[0mX\u001b[0m\u001b[0;34m.\u001b[0m\u001b[0mshape\u001b[0m\u001b[0;34m\u001b[0m\u001b[0;34m\u001b[0m\u001b[0m\n\u001b[1;32m   6095\u001b[0m         \u001b[0mX\u001b[0m \u001b[0;34m=\u001b[0m \u001b[0mX\u001b[0m\u001b[0;34m.\u001b[0m\u001b[0mravel\u001b[0m\u001b[0;34m(\u001b[0m\u001b[0;34m)\u001b[0m\u001b[0;34m\u001b[0m\u001b[0;34m\u001b[0m\u001b[0m\n",
      "\u001b[0;32m/opt/conda/lib/python3.7/site-packages/matplotlib/axes/_axes.py\u001b[0m in \u001b[0;36m_pcolorargs\u001b[0;34m(self, funcname, shading, *args, **kwargs)\u001b[0m\n\u001b[1;32m   5583\u001b[0m                 \u001b[0;32mif\u001b[0m \u001b[0misinstance\u001b[0m\u001b[0;34m(\u001b[0m\u001b[0mY\u001b[0m\u001b[0;34m,\u001b[0m \u001b[0mnp\u001b[0m\u001b[0;34m.\u001b[0m\u001b[0mma\u001b[0m\u001b[0;34m.\u001b[0m\u001b[0mcore\u001b[0m\u001b[0;34m.\u001b[0m\u001b[0mMaskedArray\u001b[0m\u001b[0;34m)\u001b[0m\u001b[0;34m:\u001b[0m\u001b[0;34m\u001b[0m\u001b[0;34m\u001b[0m\u001b[0m\n\u001b[1;32m   5584\u001b[0m                     \u001b[0mY\u001b[0m \u001b[0;34m=\u001b[0m \u001b[0mY\u001b[0m\u001b[0;34m.\u001b[0m\u001b[0mdata\u001b[0m\u001b[0;34m\u001b[0m\u001b[0;34m\u001b[0m\u001b[0m\n\u001b[0;32m-> 5585\u001b[0;31m             \u001b[0mnrows\u001b[0m\u001b[0;34m,\u001b[0m \u001b[0mncols\u001b[0m \u001b[0;34m=\u001b[0m \u001b[0mC\u001b[0m\u001b[0;34m.\u001b[0m\u001b[0mshape\u001b[0m\u001b[0;34m\u001b[0m\u001b[0;34m\u001b[0m\u001b[0m\n\u001b[0m\u001b[1;32m   5586\u001b[0m         \u001b[0;32melse\u001b[0m\u001b[0;34m:\u001b[0m\u001b[0;34m\u001b[0m\u001b[0;34m\u001b[0m\u001b[0m\n\u001b[1;32m   5587\u001b[0m             raise TypeError(f'{funcname}() takes 1 or 3 positional arguments '\n",
      "\u001b[0;31mValueError\u001b[0m: too many values to unpack (expected 2)"
     ]
    },
    {
     "data": {
      "image/png": "[encoded data removed]",
      "text/plain": [
       "<Figure size 720x288 with 1 Axes>"
      ]
     },
     "metadata": {
      "needs_background": "light"
     },
     "output_type": "display_data"
    }
   ],
   "source": [
    "import matplotlib.pyplot as plt\n",
    "import librosa.display\n",
    "import torch\n",
    "\n",
    "audio = librosa.load('/root/workspace/dataset_2022/mic_dev/dev-test-sony/fold4_room23_mix001.wav')[0]\n",
    "\n",
    "torch_tensor = torch.from_numpy(audio)\n",
    "\n",
    "# Compute the spectrogram\n",
    "S2 = torch.stft(torch_tensor, n_fft = 1024, hop_length = 512)\n",
    "\n",
    "# Plot the spectrogram\n",
    "plt.figure(figsize=(10, 4))\n",
    "librosa.display.specshow(librosa.amplitude_to_db(S2, ref=np.max), y_axis='log', x_axis='time')\n",
    "plt.title('Spectrogram')\n",
    "plt.colorbar(format='%+2.0f dB')\n",
    "plt.tight_layout()\n",
    "plt.show()"
   ]
  },
  {
   "cell_type": "code",
   "execution_count": 63,
   "metadata": {},
   "outputs": [
    {
     "data": {
      "text/plain": [
       "array([[[ 2.0370870e+00+0.0000000e+00j,  2.5122869e-01+0.0000000e+00j,\n",
       "          2.3931866e+00+0.0000000e+00j, ...,\n",
       "         -2.2402477e+00+0.0000000e+00j, -8.1145060e-01+0.0000000e+00j,\n",
       "          5.6639729e+00+0.0000000e+00j],\n",
       "        [ 4.7482485e-01-3.8286483e-01j,  1.1315916e+00+1.7960161e-01j,\n",
       "         -1.3891784e+00-8.6966038e-02j, ...,\n",
       "          5.2584720e-01-1.0102069e+00j,  1.0543588e-01+3.1778646e+00j,\n",
       "         -2.7168720e+00+5.9673476e-01j],\n",
       "        [-9.8687619e-01+1.0376180e-01j, -1.4681230e+00-7.6562285e-01j,\n",
       "          1.5768284e-01-9.6280795e-01j, ...,\n",
       "          3.5628891e+00-1.0981359e+00j,  1.6876786e+00-1.2739069e+00j,\n",
       "          1.4825076e+00-5.8014745e-01j],\n",
       "        ...,\n",
       "        [-1.4782557e-03-6.8270956e-06j, -2.7779636e-03+3.5978376e-04j,\n",
       "          2.5239955e-03+8.0570149e-05j, ...,\n",
       "          1.1723539e-03-2.3996960e-03j, -2.2878994e-03+1.7997553e-03j,\n",
       "          2.5324307e-03+9.2782854e-04j],\n",
       "        [-2.7716216e-03+3.4308050e-06j, -1.4546842e-03+1.8218989e-04j,\n",
       "          1.3722175e-03+5.6463282e-04j, ...,\n",
       "         -2.0624921e-03+8.5428817e-04j, -2.9819326e-03+7.6413387e-04j,\n",
       "          3.3937993e-03+6.1980542e-04j],\n",
       "        [ 1.5727241e-03+0.0000000e+00j, -6.6732173e-04+0.0000000e+00j,\n",
       "          2.9861759e-03+0.0000000e+00j, ...,\n",
       "          3.8815823e-03+0.0000000e+00j, -2.1348954e-03+0.0000000e+00j,\n",
       "          5.2277897e-05+0.0000000e+00j]]], dtype=complex64)"
      ]
     },
     "execution_count": 63,
     "metadata": {},
     "output_type": "execute_result"
    }
   ],
   "source": [
    "S-S2[:,:44]"
   ]
  },
  {
   "cell_type": "code",
   "execution_count": null,
   "metadata": {},
   "outputs": [
    {
     "ename": "",
     "evalue": "",
     "output_type": "error",
     "traceback": [
      "\u001b[1;31mRunning cells with '/usr/bin/python3' requires ipykernel package.\n",
      "\u001b[1;31mRun the following command to install 'ipykernel' into the Python environment. \n",
      "\u001b[1;31mCommand: '/usr/bin/python3 -m pip install ipykernel -U --user --force-reinstall'"
     ]
    }
   ],
   "source": [
    "/usr/bin/python3 -m pip install ipykernel -U --user --force-reinstall"
   ]
  },
  {
   "cell_type": "code",
   "execution_count": null,
   "metadata": {},
   "outputs": [],
   "source": []
  }
 ],
 "metadata": {
  "kernelspec": {
   "display_name": "base",
   "language": "python",
   "name": "python3"
  },
  "language_info": {
   "codemirror_mode": {
    "name": "ipython",
    "version": 3
   },
   "file_extension": ".py",
   "mimetype": "text/x-python",
   "name": "python",
   "nbconvert_exporter": "python",
   "pygments_lexer": "ipython3",
   "version": "3.7.10"
  },
  "orig_nbformat": 4,
  "vscode": {
   "interpreter": {
    "hash": "d4d1e4263499bec80672ea0156c357c1ee493ec2b1c70f0acce89fc37c4a6abe"
   }
  }
 },
 "nbformat": 4,
 "nbformat_minor": 2
}
